{
  "nbformat": 4,
  "nbformat_minor": 0,
  "metadata": {
    "colab": {
      "provenance": [],
      "authorship_tag": "ABX9TyN6BQpRGQXFGqDTYYBRnBhi",
      "include_colab_link": true
    },
    "kernelspec": {
      "name": "python3",
      "display_name": "Python 3"
    },
    "language_info": {
      "name": "python"
    }
  },
  "cells": [
    {
      "cell_type": "markdown",
      "metadata": {
        "id": "view-in-github",
        "colab_type": "text"
      },
      "source": [
        "<a href=\"https://colab.research.google.com/github/obeabi/FullStackDataScience_INEURON/blob/main/Anagrams.ipynb\" target=\"_parent\"><img src=\"https://colab.research.google.com/assets/colab-badge.svg\" alt=\"Open In Colab\"/></a>"
      ]
    },
    {
      "cell_type": "markdown",
      "source": [
        "## Scenario\n",
        "An anagram is a new word formed by rearranging the letters of a word, using all the original letters exactly once. For example, the phrases \"rail safety\" and \"fairy tales\" are anagrams, while \"I am\" and \"You are\" are not.\n",
        "\n",
        "Your task is to write a program which:\n",
        "\n",
        "1. asks the user for two separate texts;\n",
        "\n",
        "2. checks whether, the entered texts are anagrams and prints the result.\n",
        "\n",
        "Note:\n",
        "\n",
        "1. assume that two empty strings are not anagrams;\n",
        "\n",
        "2. treat upper- and lower-case letters as equal;\n",
        "spaces are not taken into account during the check - treat them as non-existent"
      ],
      "metadata": {
        "id": "84kSl7EBSp_z"
      }
    },
    {
      "cell_type": "code",
      "source": [
        "def is_anagrams():\n",
        "  \"\"\"\n",
        "  Determines if two text supplied by users are anagrams\n",
        "  \"\"\"\n",
        "  my_text1 = input(\"Enter the first text here :\")\n",
        "  my_text2 = input(\"Enter the second text here :\")\n",
        "\n",
        "  my_text1 = my_text1.lower()\n",
        "  my_list1 = list(set(my_text1))\n",
        "\n",
        "  my_text2 = my_text2.lower()\n",
        "  my_list2 = list(set(my_text2))\n",
        "\n",
        "  for i in range(len(my_list1)):\n",
        "    if my_list1[i] != my_list2[i]:\n",
        "      y = \"Not Anagrams\"\n",
        "      break\n",
        "  else:\n",
        "    y = \"Anagrams\"\n",
        "\n",
        "  return y\n",
        "\n"
      ],
      "metadata": {
        "id": "J-yYN7S7UiPz"
      },
      "execution_count": 22,
      "outputs": []
    },
    {
      "cell_type": "code",
      "source": [
        "# Test data : Listen , Silent\n",
        "is_anagrams()"
      ],
      "metadata": {
        "colab": {
          "base_uri": "https://localhost:8080/",
          "height": 70
        },
        "id": "kijbgWaRW88G",
        "outputId": "b98697e5-212a-411e-a834-2c5c9ee48e3f"
      },
      "execution_count": 23,
      "outputs": [
        {
          "name": "stdout",
          "output_type": "stream",
          "text": [
            "Enter the first text here :Listen\n",
            "Enter the second text here :Silent\n"
          ]
        },
        {
          "output_type": "execute_result",
          "data": {
            "text/plain": [
              "'Anagrams'"
            ],
            "application/vnd.google.colaboratory.intrinsic+json": {
              "type": "string"
            }
          },
          "metadata": {},
          "execution_count": 23
        }
      ]
    },
    {
      "cell_type": "code",
      "source": [
        "# Test data : modern , norman\n",
        "is_anagrams()"
      ],
      "metadata": {
        "colab": {
          "base_uri": "https://localhost:8080/",
          "height": 70
        },
        "id": "a7Hr9qNqXL8x",
        "outputId": "f0eeed05-1aea-49fe-e01b-21d1a9bf2f8f"
      },
      "execution_count": 24,
      "outputs": [
        {
          "name": "stdout",
          "output_type": "stream",
          "text": [
            "Enter the first text here :modern\n",
            "Enter the second text here :norman\n"
          ]
        },
        {
          "output_type": "execute_result",
          "data": {
            "text/plain": [
              "'Not Anagrams'"
            ],
            "application/vnd.google.colaboratory.intrinsic+json": {
              "type": "string"
            }
          },
          "metadata": {},
          "execution_count": 24
        }
      ]
    }
  ]
}