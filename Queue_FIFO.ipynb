{
  "nbformat": 4,
  "nbformat_minor": 0,
  "metadata": {
    "colab": {
      "provenance": [],
      "authorship_tag": "ABX9TyNgMYj6hF58/ZOFVySw2k63",
      "include_colab_link": true
    },
    "kernelspec": {
      "name": "python3",
      "display_name": "Python 3"
    },
    "language_info": {
      "name": "python"
    }
  },
  "cells": [
    {
      "cell_type": "markdown",
      "metadata": {
        "id": "view-in-github",
        "colab_type": "text"
      },
      "source": [
        "<a href=\"https://colab.research.google.com/github/obeabi/FullStackDataScience_INEURON/blob/main/Queue_FIFO.ipynb\" target=\"_parent\"><img src=\"https://colab.research.google.com/assets/colab-badge.svg\" alt=\"Open In Colab\"/></a>"
      ]
    },
    {
      "cell_type": "code",
      "execution_count": 5,
      "metadata": {
        "colab": {
          "base_uri": "https://localhost:8080/"
        },
        "id": "awC6OkQpv2oQ",
        "outputId": "22da3abd-0750-4fb1-e310-28c812fd8e84"
      },
      "outputs": [
        {
          "output_type": "stream",
          "name": "stdout",
          "text": [
            "An exception\n"
          ]
        }
      ],
      "source": [
        "# Program to depict Raising Exception\n",
        "\n",
        "try:\n",
        "\traise NameError ('Hi There') # Raise Error\n",
        "except NameError:\n",
        "\tprint (\"An exception\")\n",
        "\t#raise # To determine whether the exception was raised or not\n"
      ]
    },
    {
      "cell_type": "markdown",
      "source": [
        "# Objectives\n",
        "\n",
        "\n",
        "1. improving the student's skills in defining classes from scratch;\n",
        "\n",
        "2.  implementing standard data structures as classes.\n",
        "\n",
        "\n",
        "## Scenario\n",
        "\n",
        "As you already know, a stack is a data structure realizing the LIFO (Last In – First Out) model. It's easy and you've already grown perfectly accustomed to it.\n",
        "\n",
        "Let's try something new now. A queue is a data model characterized by the term **FIFO: First In – First Out**. Note: a regular queue (line) you know from shops or post offices works exactly in the same way – a customer who came first is served first too.\n",
        "\n",
        "\n",
        "Your task is to implement the Queue class with two basic operations:\n",
        "\n",
        "i. put(element), which puts an element at end of the queue;\n",
        "\n",
        "ii. get(), which takes an element from the front of the queue and returns it as the result (the queue cannot be empty to successfully perform it.)\n",
        "\n",
        "\n",
        "### Follow the hints:\n",
        "\n",
        "a. use a list as your storage (just like we did with the stack)\n",
        "\n",
        "b. put() should append elements to the beginning of the list, while get() should remove the elements from the end of the list;\n",
        "\n",
        "c. define a new exception named QueueError (choose an exception to derive it from) and raise it when get() tries to operate on an empty list.\n",
        "\n",
        "\n",
        "\n",
        "Complete the code we've provided in the editor. Run it to check whether its output is similar to ours.\n",
        "\n",
        "__Expected output__\n",
        "1\n",
        "dog\n",
        "False\n",
        "Queue error "
      ],
      "metadata": {
        "id": "fY0gsLuOwpT0"
      }
    },
    {
      "cell_type": "code",
      "source": [
        "class QueueError(Exception):  # Choose base class for the new exception.\n",
        "    #\n",
        "    #  Write code here\n",
        "    def __init__(self):\n",
        "      super().__init__()\n",
        "      #raise IndexError ([1,2,3])\n",
        "      return IndexError\n",
        "     \n"
      ],
      "metadata": {
        "id": "F24E5c03xTIc"
      },
      "execution_count": 30,
      "outputs": []
    },
    {
      "cell_type": "code",
      "source": [
        "class Queue:\n",
        "    def __init__(self):\n",
        "        #\n",
        "        # Write code here\n",
        "        self.__queue_list = []\n",
        "\n",
        "    def put(self, elem):\n",
        "        #\n",
        "        # Write code here\n",
        "        self.__queue_list.append(elem)\n",
        "\n",
        "    def get(self):\n",
        "        #\n",
        "        # Write code here\n",
        "        try:\n",
        "            val = self.__queue_list[0]\n",
        "            del self.__queue_list[0]\n",
        "            return val\n",
        "        except:\n",
        "          exception = QueueError()\n",
        "          print(exception)\n",
        "\n"
      ],
      "metadata": {
        "id": "u0yzMr40zkAQ"
      },
      "execution_count": 31,
      "outputs": []
    },
    {
      "cell_type": "code",
      "source": [
        "def test_code():\n",
        "  que = Queue()\n",
        "  que.put(1)\n",
        "  que.put(\"dog\")\n",
        "  que.put(False)\n",
        "  try:\n",
        "      for i in range(4):\n",
        "        print(que.get())\n",
        "  except:\n",
        "      print(\"Queue error\")\n"
      ],
      "metadata": {
        "id": "8lbbJzHW18Zb"
      },
      "execution_count": 32,
      "outputs": []
    },
    {
      "cell_type": "code",
      "source": [
        "if __name__ == \"__main__\":\n",
        "  test_code()"
      ],
      "metadata": {
        "colab": {
          "base_uri": "https://localhost:8080/"
        },
        "id": "MOXgBvPf2nOw",
        "outputId": "b018a101-0d52-409c-cedf-2e550003f784"
      },
      "execution_count": 33,
      "outputs": [
        {
          "output_type": "stream",
          "name": "stdout",
          "text": [
            "1\n",
            "dog\n",
            "False\n",
            "Queue error\n"
          ]
        }
      ]
    }
  ]
}