{
  "nbformat": 4,
  "nbformat_minor": 0,
  "metadata": {
    "colab": {
      "provenance": [],
      "authorship_tag": "ABX9TyPp1z7wkMxB8qNpKgE4k26v",
      "include_colab_link": true
    },
    "kernelspec": {
      "name": "python3",
      "display_name": "Python 3"
    },
    "language_info": {
      "name": "python"
    }
  },
  "cells": [
    {
      "cell_type": "markdown",
      "metadata": {
        "id": "view-in-github",
        "colab_type": "text"
      },
      "source": [
        "<a href=\"https://colab.research.google.com/github/obeabi/FullStackDataScience_INEURON/blob/main/The_Timer_Class.ipynb\" target=\"_parent\"><img src=\"https://colab.research.google.com/assets/colab-badge.svg\" alt=\"Open In Colab\"/></a>"
      ]
    },
    {
      "cell_type": "markdown",
      "source": [
        "# Objectives\n",
        "\n",
        "\n",
        "1. improving the student's skills in defining classes from scratch;\n",
        "1. defining and using instance variables;\n",
        "1. defining and using methods.\n",
        "\n",
        "\n",
        "## Scenario\n",
        "\n",
        "We need a class able to count seconds. Easy? Not as much as you may think as we're going to have some specific expectations.\n",
        "\n",
        "\n",
        "Read them carefully as the class you're about write will be used to launch rockets carrying international missions to Mars. It's a great responsibility. We're counting on you!\n",
        "\n",
        "\n",
        "\n",
        "Your class will be called Timer. Its constructor accepts three arguments representing hours (a value from range [0..23] - we will be using the military time), minutes (from range [0..59]) and seconds (from range [0..59]).\n",
        "\n",
        "\n",
        "\n",
        "Zero is the default value for all of the above parameters. There is no need to perform any validation checks.\n",
        "\n",
        "\n",
        "\n",
        "The class itself should provide the following facilities:\n",
        "\n",
        "1. objects of the class should be \"printable\", i.e. they should be able to implicitly convert themselves into strings of the following form: \"hh:mm:ss\", with leading zeros added when any of the values is less than 10;\n",
        "\n",
        "\n",
        "1. the class should be equipped with parameterless methods called next_second() and previous_second(), incrementing the time stored inside objects by +1/-1 second respectively.\n",
        "\n",
        "\n",
        "__Use the following hints:__\n",
        "\n",
        "i. all object's properties should be private;\n",
        "\n",
        "ii. consider writing a separate function (not method!) to format the time string.\n",
        "Complete the template we've provided in the editor. Run your code and check whether the output looks the same as ours."
      ],
      "metadata": {
        "id": "CnOKnISrjnQF"
      }
    },
    {
      "cell_type": "code",
      "source": [
        "class Timer:\n",
        "    def __init__( self, hours = 0, minutes = 0, seconds = 0):\n",
        "        #\n",
        "        # Write code here\n",
        "        self.__hours = hours\n",
        "        self.__minutes = minutes\n",
        "        self.__seconds = seconds\n",
        "\n",
        "    def __str__(self):\n",
        "        #\n",
        "        # Write code here\n",
        "        return format_string(self.__hours, self.__minutes, self.__seconds)\n",
        "\n",
        "    def next_second(self):\n",
        "        #\n",
        "        # Write code here\n",
        "        if (self.__seconds == 59) and (self.__minutes == 59) and (self.__hours == 23):\n",
        "            self.__seconds = 0\n",
        "            self.__minutes = 0\n",
        "            self.__hours = 0\n",
        "        elif (self.__seconds == 59) and (self.__minutes == 59):\n",
        "            self.__seconds = 0\n",
        "            self.__minutes = 0\n",
        "            self.__hours = self.__hours + 1\n",
        "        elif (self.__seconds == 59) :\n",
        "            self.__seconds = 0\n",
        "            self.__minutes = self.__minutes + 1\n",
        "        else:\n",
        "            self.__seconds = self.__seconds + 1\n",
        "        \n",
        "        \n",
        "\n",
        "    def prev_second(self):\n",
        "        #\n",
        "        # Write code here\n",
        "        if (self.__seconds == 0) and (self.__minutes == 0) and (self.__hours == 0):\n",
        "            self.__seconds= 59\n",
        "            self.__minutes = 59\n",
        "            self.__hours = 23\n",
        "        elif (self.__seconds == 0) and (self.__minutes == 0):\n",
        "            self.__seconds = 59\n",
        "            self.__minutes = 59\n",
        "            self.__hours = self.__hours - 1\n",
        "        elif (self.__seconds == 0) :\n",
        "            self.__seconds = 59\n",
        "            self.__minutes = self.__minutes - 1\n",
        "        else:\n",
        "            self.__seconds = self.__seconds - 1\n",
        "        \n",
        "def format_string(h,m,s):\n",
        "    \n",
        "    if h < 10:\n",
        "        hh = '0'+str(h)\n",
        "    else:\n",
        "        hh = str(h)\n",
        "    if m < 10:\n",
        "        mm = '0'+ str(m)\n",
        "    else:\n",
        "        mm = str(m)\n",
        "    if s < 10:\n",
        "        ss = '0' + str(s)\n",
        "    else:\n",
        "        ss = str(s)\n",
        "        \n",
        "    return hh+':'+mm+':'+ss\n"
      ],
      "metadata": {
        "id": "UgUwb7rnnHkf"
      },
      "execution_count": 12,
      "outputs": []
    },
    {
      "cell_type": "code",
      "source": [
        "# test code here\n",
        "if __name__ == '__main__':\n",
        "  timer = Timer(23,59,59)\n",
        "  print(timer)\n",
        "  timer.next_second()\n",
        "  print(timer)\n",
        "  timer.prev_second()\n",
        "  print(timer)"
      ],
      "metadata": {
        "colab": {
          "base_uri": "https://localhost:8080/"
        },
        "id": "W3d7VDr1nMe0",
        "outputId": "0b3e4647-e70a-4459-913d-c247bbf1d7c3"
      },
      "execution_count": 13,
      "outputs": [
        {
          "output_type": "stream",
          "name": "stdout",
          "text": [
            "23:59:59\n",
            "00:00:00\n",
            "23:59:59\n"
          ]
        }
      ]
    },
    {
      "cell_type": "code",
      "source": [
        "# test code here\n",
        "if __name__ == '__main__':\n",
        "  timer = Timer(2,35,59)\n",
        "  print(timer)\n",
        "  timer.next_second()\n",
        "  print(timer)\n",
        "  timer.prev_second()\n",
        "  print(timer)"
      ],
      "metadata": {
        "colab": {
          "base_uri": "https://localhost:8080/"
        },
        "id": "s9bp07RkngYE",
        "outputId": "4f34cbd8-39ee-4cd6-df61-84b2a387edbb"
      },
      "execution_count": 14,
      "outputs": [
        {
          "output_type": "stream",
          "name": "stdout",
          "text": [
            "02:35:59\n",
            "02:36:00\n",
            "02:35:59\n"
          ]
        }
      ]
    }
  ]
}