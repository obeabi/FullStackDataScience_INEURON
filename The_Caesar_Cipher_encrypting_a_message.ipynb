{
  "nbformat": 4,
  "nbformat_minor": 0,
  "metadata": {
    "colab": {
      "provenance": [],
      "authorship_tag": "ABX9TyPksWTYKI1G+uDhillXQ04G",
      "include_colab_link": true
    },
    "kernelspec": {
      "name": "python3",
      "display_name": "Python 3"
    },
    "language_info": {
      "name": "python"
    }
  },
  "cells": [
    {
      "cell_type": "markdown",
      "metadata": {
        "id": "view-in-github",
        "colab_type": "text"
      },
      "source": [
        "<a href=\"https://colab.research.google.com/github/obeabi/FullStackDataScience_INEURON/blob/main/The_Caesar_Cipher_encrypting_a_message.ipynb\" target=\"_parent\"><img src=\"https://colab.research.google.com/assets/colab-badge.svg\" alt=\"Open In Colab\"/></a>"
      ]
    },
    {
      "cell_type": "code",
      "execution_count": 7,
      "metadata": {
        "colab": {
          "base_uri": "https://localhost:8080/"
        },
        "id": "2yU3G_OUcgAZ",
        "outputId": "d07ef544-d779-43a3-ddd5-c990b742b144"
      },
      "outputs": [
        {
          "output_type": "stream",
          "name": "stdout",
          "text": [
            "Type your message here :abiola983david\n",
            "BCJPMBEBWJE\n"
          ]
        }
      ],
      "source": [
        "your_text = input(\"Type your message here :\")\n",
        "cipher = ''\n",
        "\n",
        "for text in your_text:\n",
        "    if not text.isalpha():\n",
        "      continue\n",
        "    code = ord(text.upper()) + 1\n",
        "    if code > ord('Z'):\n",
        "      code = ord('A')\n",
        "    cipher += chr(code)\n",
        "\n",
        "print(cipher)  \n",
        "      "
      ]
    }
  ]
}