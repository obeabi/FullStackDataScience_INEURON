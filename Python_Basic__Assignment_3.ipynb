{
  "nbformat": 4,
  "nbformat_minor": 0,
  "metadata": {
    "colab": {
      "provenance": [],
      "authorship_tag": "ABX9TyOWJIDyaIGEvKDCalgfz8Uh",
      "include_colab_link": true
    },
    "kernelspec": {
      "name": "python3",
      "display_name": "Python 3"
    },
    "language_info": {
      "name": "python"
    }
  },
  "cells": [
    {
      "cell_type": "markdown",
      "metadata": {
        "id": "view-in-github",
        "colab_type": "text"
      },
      "source": [
        "<a href=\"https://colab.research.google.com/github/obeabi/FullStackDataScience_INEURON/blob/main/Python_Basic__Assignment_3.ipynb\" target=\"_parent\"><img src=\"https://colab.research.google.com/assets/colab-badge.svg\" alt=\"Open In Colab\"/></a>"
      ]
    },
    {
      "cell_type": "markdown",
      "source": [
        "# Python Basic Assignment 3\n",
        "## Written by: Abiola Obembe\n",
        "### Date: 2022-09-05"
      ],
      "metadata": {
        "id": "fcbnOaFLzLWV"
      }
    },
    {
      "cell_type": "markdown",
      "source": [
        "### 1. Why are functions advantageous to have in your programs?\n",
        "\n",
        "**Answer:** \n",
        "Functions are advantageous because they help to make a code reusable, better organized and simple to read or debug or update."
      ],
      "metadata": {
        "id": "T_d77jN2zbQj"
      }
    },
    {
      "cell_type": "markdown",
      "source": [
        "### 2. When does the code in a function run: when it&#39;s specified or when it&#39;s called?\n",
        "\n",
        "**Answer:** The code in a function runs when the function is invoked or called"
      ],
      "metadata": {
        "id": "smgqxa4j0eWz"
      }
    },
    {
      "cell_type": "markdown",
      "source": [
        "## 3. What statement creates a function?\n",
        "\n",
        "**Answer:** The define (def) keyword followed by the function name, a pair of parentheisis and the colon creates a function. For example,\n",
        "\n",
        "def my_function( ) :\n",
        "    "
      ],
      "metadata": {
        "id": "t-lOpVQZ0qr-"
      }
    },
    {
      "cell_type": "markdown",
      "source": [
        "### 4. What is the difference between a function and a function call?\n",
        "\n",
        "**Answer:** A function by itself is a block of code that is designed to perform a specified task. However, a function call is an instruction that informs Python to run a given function. In other words, without a function call a function is redundant."
      ],
      "metadata": {
        "id": "1Lyr7Svj5WBp"
      }
    },
    {
      "cell_type": "markdown",
      "source": [
        "### 5. How many global scopes are there in a Python program? How many local scopes?\n",
        "\n",
        "**Answer:**"
      ],
      "metadata": {
        "id": "ldXCQurP5egp"
      }
    },
    {
      "cell_type": "markdown",
      "source": [
        "###6. What happens to variables in a local scope when the function call returns?"
      ],
      "metadata": {
        "id": "4WB3ktcY8R-w"
      }
    },
    {
      "cell_type": "markdown",
      "source": [
        "### 7. What is the concept of a return value? Is it possible to have a return value in an expression?\n",
        "\n",
        "**Answer:** The return instruction is a reserved Python keyword that is utilized ti get a function return a vaue or an immediate termination of a function's execution. The return instruction can be used with an expression following it. Similarly, it can be used without an expression following it and this causes immediate termination of the function's execution and an instant return to the point of invocation."
      ],
      "metadata": {
        "id": "mqKrzD3_8SKr"
      }
    },
    {
      "cell_type": "markdown",
      "source": [
        "###8. If a function does not have a return statement, what is the return value of a call to that function?\n",
        "\n",
        "**Answer:** The return value of a call to a function without an explicit return statement is the value None"
      ],
      "metadata": {
        "id": "Oum00DWF8SXO"
      }
    },
    {
      "cell_type": "markdown",
      "source": [
        "###9. How do you make a function variable refer to the global variable?"
      ],
      "metadata": {
        "id": "tOjBz9yP8lBr"
      }
    },
    {
      "cell_type": "markdown",
      "source": [
        "###10. What is the data type of None?\n",
        "\n",
        "**Answer:** The data type of None value is NoneType"
      ],
      "metadata": {
        "id": "uPA4OXDd8pLM"
      }
    },
    {
      "cell_type": "markdown",
      "source": [
        "###11. What does the sentence import areallyourpetsnamederic do?"
      ],
      "metadata": {
        "id": "gEpv0mwz8sxz"
      }
    },
    {
      "cell_type": "markdown",
      "source": [
        "###12. If you had a bacon() feature in a spam module, what would you call it after importing spam?\n",
        "\n",
        "**Answer:**\n"
      ],
      "metadata": {
        "id": "NZ6Pu-h98wZH"
      }
    },
    {
      "cell_type": "markdown",
      "source": [
        "###13. What can you do to save a programme from crashing if it encounters an error?"
      ],
      "metadata": {
        "id": "PWL9bzcb8zhj"
      }
    },
    {
      "cell_type": "markdown",
      "source": [
        "###14. What is the purpose of the try clause? What is the purpose of the except clause?"
      ],
      "metadata": {
        "id": "WTFCTNzK83m5"
      }
    }
  ]
}