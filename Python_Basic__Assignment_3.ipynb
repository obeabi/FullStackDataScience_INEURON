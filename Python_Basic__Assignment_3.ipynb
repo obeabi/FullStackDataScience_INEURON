{
  "nbformat": 4,
  "nbformat_minor": 0,
  "metadata": {
    "colab": {
      "provenance": [],
      "authorship_tag": "ABX9TyNlXmGocjkTTOYKPiS5dTYc",
      "include_colab_link": true
    },
    "kernelspec": {
      "name": "python3",
      "display_name": "Python 3"
    },
    "language_info": {
      "name": "python"
    }
  },
  "cells": [
    {
      "cell_type": "markdown",
      "metadata": {
        "id": "view-in-github",
        "colab_type": "text"
      },
      "source": [
        "<a href=\"https://colab.research.google.com/github/obeabi/FullStackDataScience_INEURON/blob/main/Python_Basic__Assignment_3.ipynb\" target=\"_parent\"><img src=\"https://colab.research.google.com/assets/colab-badge.svg\" alt=\"Open In Colab\"/></a>"
      ]
    },
    {
      "cell_type": "markdown",
      "source": [
        "# Python Basic Assignment 3\n",
        "## Written by: Abiola Obembe\n",
        "### Date: 2022-09-05"
      ],
      "metadata": {
        "id": "fcbnOaFLzLWV"
      }
    },
    {
      "cell_type": "markdown",
      "source": [
        "### 1. Why are functions advantageous to have in your programs?\n",
        "\n",
        "**Answer**\n",
        "Functions are advantageous because they help to make a code simpler(i.e. shorter) and simpler to read or debug or update."
      ],
      "metadata": {
        "id": "T_d77jN2zbQj"
      }
    },
    {
      "cell_type": "code",
      "source": [],
      "metadata": {
        "id": "dHPsU27DzW2r"
      },
      "execution_count": null,
      "outputs": []
    }
  ]
}