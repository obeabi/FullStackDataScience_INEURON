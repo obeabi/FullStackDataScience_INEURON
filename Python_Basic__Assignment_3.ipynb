{
  "nbformat": 4,
  "nbformat_minor": 0,
  "metadata": {
    "colab": {
      "provenance": [],
      "authorship_tag": "ABX9TyN1vym8sgXa/OB47WYk4ZqJ",
      "include_colab_link": true
    },
    "kernelspec": {
      "name": "python3",
      "display_name": "Python 3"
    },
    "language_info": {
      "name": "python"
    }
  },
  "cells": [
    {
      "cell_type": "markdown",
      "metadata": {
        "id": "view-in-github",
        "colab_type": "text"
      },
      "source": [
        "<a href=\"https://colab.research.google.com/github/obeabi/FullStackDataScience_INEURON/blob/main/Python_Basic__Assignment_3.ipynb\" target=\"_parent\"><img src=\"https://colab.research.google.com/assets/colab-badge.svg\" alt=\"Open In Colab\"/></a>"
      ]
    },
    {
      "cell_type": "markdown",
      "source": [
        "# Python Basic Assignment 3\n",
        "## Written by: Abiola Obembe\n",
        "### Date: 2022-09-05"
      ],
      "metadata": {
        "id": "fcbnOaFLzLWV"
      }
    },
    {
      "cell_type": "markdown",
      "source": [
        "### 1. Why are functions advantageous to have in your programs?\n",
        "\n",
        "**Answer:** \n",
        "Functions are advantageous because they help to make a code reusable, better organized and simple to read or debug or update."
      ],
      "metadata": {
        "id": "T_d77jN2zbQj"
      }
    },
    {
      "cell_type": "markdown",
      "source": [
        "### 2. When does the code in a function run: when it&#39;s specified or when it&#39;s called?\n",
        "\n",
        "**Answer:** The code in a function runs when the function is invoked or called"
      ],
      "metadata": {
        "id": "smgqxa4j0eWz"
      }
    },
    {
      "cell_type": "markdown",
      "source": [
        "## 3. What statement creates a function?\n",
        "\n",
        "**Answer:** The define (def) keyword followed by the function name, a pair of parentheisis and the colon creates a function. For example,\n",
        "\n",
        "def my_function( ) :\n",
        "    "
      ],
      "metadata": {
        "id": "t-lOpVQZ0qr-"
      }
    },
    {
      "cell_type": "markdown",
      "source": [
        "### 4. What is the difference between a function and a function call?\n",
        "\n",
        "**Answer:** A function by itself is a block of code that is designed to perform a specified task. However, a function call is an instruction that informs Python to run a given function. In other words, without a function call a function is redundant."
      ],
      "metadata": {
        "id": "1Lyr7Svj5WBp"
      }
    },
    {
      "cell_type": "markdown",
      "source": [
        "### 5. How many global scopes are there in a Python program? How many local scopes?\n",
        "\n",
        "**Answer:**"
      ],
      "metadata": {
        "id": "ldXCQurP5egp"
      }
    }
  ]
}