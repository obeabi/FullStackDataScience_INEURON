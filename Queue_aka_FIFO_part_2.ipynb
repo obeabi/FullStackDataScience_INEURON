{
  "nbformat": 4,
  "nbformat_minor": 0,
  "metadata": {
    "colab": {
      "provenance": [],
      "authorship_tag": "ABX9TyPxE79ROih3Xl5RfWESWgRR",
      "include_colab_link": true
    },
    "kernelspec": {
      "name": "python3",
      "display_name": "Python 3"
    },
    "language_info": {
      "name": "python"
    }
  },
  "cells": [
    {
      "cell_type": "markdown",
      "metadata": {
        "id": "view-in-github",
        "colab_type": "text"
      },
      "source": [
        "<a href=\"https://colab.research.google.com/github/obeabi/FullStackDataScience_INEURON/blob/main/Queue_aka_FIFO_part_2.ipynb\" target=\"_parent\"><img src=\"https://colab.research.google.com/assets/colab-badge.svg\" alt=\"Open In Colab\"/></a>"
      ]
    },
    {
      "cell_type": "markdown",
      "source": [
        "# Objectives\n",
        "\n",
        "\n",
        "1. improving the student's skills in defining subclasses;\n",
        "\n",
        "2. adding a new functionality to an existing class.\n",
        "\n",
        "\n",
        "## Scenario\n",
        "\n",
        "Your task is to slightly extend the Queue class' capabilities. We want it to have a parameterless method that returns True if the queue is empty and False otherwise.\n",
        "\n",
        "\n",
        "__Expected output__\n",
        "1\n",
        "dog\n",
        "False\n",
        "Queue empt"
      ],
      "metadata": {
        "id": "XDGAmAaq6EFr"
      }
    },
    {
      "cell_type": "code",
      "source": [
        "class QueueError(Exception):  # Choose base class for the new exception.\n",
        "    pass\n",
        "\n",
        "class Queue:\n",
        "    def __init__(self):\n",
        "        #\n",
        "        # Write code here\n",
        "        self.__queue_list = []\n",
        "\n",
        "    def put(self, elem):\n",
        "        #\n",
        "        # Write code here\n",
        "        self.__queue_list.append(elem)\n",
        "\n",
        "    def get(self):\n",
        "        #\n",
        "        # Write code here\n",
        "        try:\n",
        "            val = self.__queue_list[0]\n",
        "            del self.__queue_list[0]\n",
        "            return val\n",
        "        except:\n",
        "            raise QueueError()\n",
        "          \n",
        "\n"
      ],
      "metadata": {
        "id": "TCrOKuZY6eSY"
      },
      "execution_count": 101,
      "outputs": []
    },
    {
      "cell_type": "markdown",
      "source": [
        "## Define subclass"
      ],
      "metadata": {
        "id": "_qMWdE4r6tkj"
      }
    },
    {
      "cell_type": "code",
      "source": [
        "class SuperQueue(Queue):\n",
        "  def __init__(self):\n",
        "    super().__init__()\n",
        "\n",
        "  def isempty(self):\n",
        "      if len(self._Queue__queue_list) :\n",
        "        return False\n",
        "      else:\n",
        "          return True\n",
        "      \n",
        "       \n",
        "\n",
        "   "
      ],
      "metadata": {
        "id": "bNNLlbAx6xPL"
      },
      "execution_count": 102,
      "outputs": []
    },
    {
      "cell_type": "code",
      "source": [
        "que = SuperQueue()\n",
        "que.put(1)\n",
        "que.put(\"dog\")\n",
        "que.put(False)\n",
        "for i in range(4):\n",
        "   if not que.isempty():\n",
        "        print(que.get())\n",
        "   else:\n",
        "        print(\"Queue empty\")"
      ],
      "metadata": {
        "colab": {
          "base_uri": "https://localhost:8080/"
        },
        "id": "KHTzz_GS7z0P",
        "outputId": "35b0b850-58b3-4459-9329-bfda561ce8a6"
      },
      "execution_count": 103,
      "outputs": [
        {
          "output_type": "stream",
          "name": "stdout",
          "text": [
            "1\n",
            "dog\n",
            "False\n",
            "Queue empty\n"
          ]
        }
      ]
    }
  ]
}