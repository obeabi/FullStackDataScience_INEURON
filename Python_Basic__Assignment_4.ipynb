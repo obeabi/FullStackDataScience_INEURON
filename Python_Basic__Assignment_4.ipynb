{
  "nbformat": 4,
  "nbformat_minor": 0,
  "metadata": {
    "colab": {
      "provenance": [],
      "collapsed_sections": [],
      "authorship_tag": "ABX9TyMA12XVMVOL3j9w27vAN6K/",
      "include_colab_link": true
    },
    "kernelspec": {
      "name": "python3",
      "display_name": "Python 3"
    },
    "language_info": {
      "name": "python"
    }
  },
  "cells": [
    {
      "cell_type": "markdown",
      "metadata": {
        "id": "view-in-github",
        "colab_type": "text"
      },
      "source": [
        "<a href=\"https://colab.research.google.com/github/obeabi/FullStackDataScience_INEURON/blob/main/Python_Basic__Assignment_4.ipynb\" target=\"_parent\"><img src=\"https://colab.research.google.com/assets/colab-badge.svg\" alt=\"Open In Colab\"/></a>"
      ]
    },
    {
      "cell_type": "markdown",
      "source": [
        "# Python Basic Assignment 4\n",
        "## Written by: Abiola Obembe\n",
        "### Date: 2022-10-16"
      ],
      "metadata": {
        "id": "Eq-dsJnP6Vtt"
      }
    },
    {
      "cell_type": "markdown",
      "source": [
        "### 1. What exactly is []?\n",
        "\n",
        "**Answer:** This refers to an empty list"
      ],
      "metadata": {
        "id": "fLMjnyno6dMn"
      }
    },
    {
      "cell_type": "markdown",
      "source": [
        "### 2. In a list of values stored in a variable called spam, how would you assign the value &#39;hello&#39; as the\n",
        "third value? (Assume [2, 4, 6, 8, 10] are in spam.)"
      ],
      "metadata": {
        "id": "a49-JZCf6nfv"
      }
    },
    {
      "cell_type": "code",
      "source": [
        "# Answer here\n",
        "\n",
        "spam = [ 2,4,6,8,10]\n",
        "\n",
        "spam[2] = 'hello'\n",
        "\n",
        "print(spam)"
      ],
      "metadata": {
        "colab": {
          "base_uri": "https://localhost:8080/"
        },
        "id": "hE1N10mvbyb6",
        "outputId": "d22b60a3-1870-4afc-8d51-3d876fba74e2"
      },
      "execution_count": 45,
      "outputs": [
        {
          "output_type": "stream",
          "name": "stdout",
          "text": [
            "[2, 4, 'hello', 8, 10]\n"
          ]
        }
      ]
    },
    {
      "cell_type": "markdown",
      "source": [
        "### Let&#39;s pretend the spam includes the list [&#39;a&#39;, &#39;b&#39;, &#39;c&#39;, &#39;d&#39;] for the next three queries."
      ],
      "metadata": {
        "id": "IyCn67uZ6t82"
      }
    },
    {
      "cell_type": "code",
      "source": [
        "# Define spam list here\n",
        "spam = [ 'a', 'b', 'c', 'd']"
      ],
      "metadata": {
        "id": "DESZrjr-cSEG"
      },
      "execution_count": 46,
      "outputs": []
    },
    {
      "cell_type": "markdown",
      "source": [
        "### 3. What is the value of spam[int(int(&#39;3&#39; * 2) / 11)]?"
      ],
      "metadata": {
        "id": "kWvCcsiv7Dh6"
      }
    },
    {
      "cell_type": "code",
      "source": [
        "# Answer here\n",
        "print(spam[ int(int('3' * 2)/11)])"
      ],
      "metadata": {
        "colab": {
          "base_uri": "https://localhost:8080/"
        },
        "id": "luvoTm1Occli",
        "outputId": "a57855ee-e792-4350-b242-eea2505942d6"
      },
      "execution_count": 47,
      "outputs": [
        {
          "output_type": "stream",
          "name": "stdout",
          "text": [
            "d\n"
          ]
        }
      ]
    },
    {
      "cell_type": "markdown",
      "source": [
        "### 4. What is the value of spam[-1]?"
      ],
      "metadata": {
        "id": "J2fTNyNC7FFU"
      }
    },
    {
      "cell_type": "code",
      "source": [
        "# Answer here\n",
        "print(spam[-1])"
      ],
      "metadata": {
        "colab": {
          "base_uri": "https://localhost:8080/"
        },
        "id": "n6CfcbOucy1w",
        "outputId": "26a2c23f-ac4f-4001-ee7b-c7318d9fa5e1"
      },
      "execution_count": 48,
      "outputs": [
        {
          "output_type": "stream",
          "name": "stdout",
          "text": [
            "d\n"
          ]
        }
      ]
    },
    {
      "cell_type": "markdown",
      "source": [
        "### 5. What is the value of spam[:2]?"
      ],
      "metadata": {
        "id": "5sg7w3Rh7NdO"
      }
    },
    {
      "cell_type": "code",
      "source": [
        "# Answer here\n",
        "print(spam[:2])"
      ],
      "metadata": {
        "colab": {
          "base_uri": "https://localhost:8080/"
        },
        "id": "XAWNQjiLc7OB",
        "outputId": "0948f2b8-8653-41e2-8d4f-c7b52995ca4c"
      },
      "execution_count": 49,
      "outputs": [
        {
          "output_type": "stream",
          "name": "stdout",
          "text": [
            "['a', 'b']\n"
          ]
        }
      ]
    },
    {
      "cell_type": "markdown",
      "source": [
        "### Let&#39;s pretend bacon has the list [3.14, &#39;cat,&#39; 11, &#39;cat,&#39; True] for the next three questions."
      ],
      "metadata": {
        "id": "4GJqukrZ7RQf"
      }
    },
    {
      "cell_type": "code",
      "source": [
        "# Define bacon list here\n",
        "bacon = [ 3.14, 'cat', 11, 'cat', True]"
      ],
      "metadata": {
        "id": "3c5M6OvLdDLG"
      },
      "execution_count": 50,
      "outputs": []
    },
    {
      "cell_type": "markdown",
      "source": [
        "### 6. What is the value of bacon.index(&#39;cat&#39;)?"
      ],
      "metadata": {
        "id": "s4gkWInO7VQA"
      }
    },
    {
      "cell_type": "code",
      "source": [
        "# Answer here\n",
        "print(bacon.index('cat'))"
      ],
      "metadata": {
        "colab": {
          "base_uri": "https://localhost:8080/"
        },
        "id": "hR3cBD7MdQoL",
        "outputId": "814bef1b-a9b2-49b5-987d-ea25499b8585"
      },
      "execution_count": 51,
      "outputs": [
        {
          "output_type": "stream",
          "name": "stdout",
          "text": [
            "1\n"
          ]
        }
      ]
    },
    {
      "cell_type": "markdown",
      "source": [
        "### 7. How does bacon.append(99) change the look of the list value in bacon?"
      ],
      "metadata": {
        "id": "5kmBNJiK7b6B"
      }
    },
    {
      "cell_type": "code",
      "source": [
        "# Appending the bacon list by 99 increases the length of bacon list by 1 \n",
        "bacon.append(99)\n",
        "print(bacon)"
      ],
      "metadata": {
        "colab": {
          "base_uri": "https://localhost:8080/"
        },
        "id": "Coi7W6lOdWss",
        "outputId": "19cdc895-af81-4582-b1c1-dce151f2afae"
      },
      "execution_count": 52,
      "outputs": [
        {
          "output_type": "stream",
          "name": "stdout",
          "text": [
            "[3.14, 'cat', 11, 'cat', True, 99]\n"
          ]
        }
      ]
    },
    {
      "cell_type": "markdown",
      "source": [
        "### 8. How does bacon.remove(&#39;cat&#39;) change the look of the list in bacon?"
      ],
      "metadata": {
        "id": "A_Jqlg6O7fWm"
      }
    },
    {
      "cell_type": "code",
      "source": [
        "# The command removes the first occurence of cat in the bacon list \n",
        "bacon.remove('cat')\n",
        "print(bacon)"
      ],
      "metadata": {
        "colab": {
          "base_uri": "https://localhost:8080/"
        },
        "id": "-dtK9mLDdxmK",
        "outputId": "b19ce3be-9b60-49d5-bacb-c8b5cded90e9"
      },
      "execution_count": 53,
      "outputs": [
        {
          "output_type": "stream",
          "name": "stdout",
          "text": [
            "[3.14, 11, 'cat', True, 99]\n"
          ]
        }
      ]
    },
    {
      "cell_type": "markdown",
      "source": [
        "### 9. What are the list concatenation and list replication operators?"
      ],
      "metadata": {
        "id": "PdgECHjG7jdi"
      }
    },
    {
      "cell_type": "code",
      "source": [
        "# List cocatenation opeartor is \"+\" and the replication operator is '*'\n",
        "print([1,2] + [3,4])\n",
        "print([1,2] * 4)"
      ],
      "metadata": {
        "colab": {
          "base_uri": "https://localhost:8080/"
        },
        "id": "NMc00qXKeNee",
        "outputId": "53f74152-08a6-401f-d58d-f50f5a371457"
      },
      "execution_count": 54,
      "outputs": [
        {
          "output_type": "stream",
          "name": "stdout",
          "text": [
            "[1, 2, 3, 4]\n",
            "[1, 2, 1, 2, 1, 2, 1, 2]\n"
          ]
        }
      ]
    },
    {
      "cell_type": "markdown",
      "source": [
        "### 10. What is difference between the list methods append() and insert()?"
      ],
      "metadata": {
        "id": "AaYiiyt97mqF"
      }
    },
    {
      "cell_type": "markdown",
      "source": [
        "#### **Answer**: The append method requires only one argument and it adds  the argument to the end of the list. However, the insert method requires two arguments, the location in the list to insert the argument and the literal to add to the original list"
      ],
      "metadata": {
        "id": "tjmvELa5e9rC"
      }
    },
    {
      "cell_type": "code",
      "source": [
        "l1 = [ 1,3,4,2]\n",
        "l1.append([1,2])\n",
        "print(l1)\n",
        "\n",
        "\n",
        "l2 = [1,2,3,4]\n",
        "l2.insert(0,[4,6])\n",
        "print(l2)"
      ],
      "metadata": {
        "colab": {
          "base_uri": "https://localhost:8080/"
        },
        "id": "zpujlXO5f1M1",
        "outputId": "f67072c4-bf38-4885-a7ec-0e4d0b4c4f2d"
      },
      "execution_count": 55,
      "outputs": [
        {
          "output_type": "stream",
          "name": "stdout",
          "text": [
            "[1, 3, 4, 2, [1, 2]]\n",
            "[[4, 6], 1, 2, 3, 4]\n"
          ]
        }
      ]
    },
    {
      "cell_type": "markdown",
      "source": [
        "### 11. What are the two methods for removing items from a list?"
      ],
      "metadata": {
        "id": "6wLgHfrg7qRE"
      }
    },
    {
      "cell_type": "markdown",
      "source": [
        "#### **Answer** : They include pop and remove methods"
      ],
      "metadata": {
        "id": "8xIdyeAcfsCj"
      }
    },
    {
      "cell_type": "code",
      "source": [
        "l1 = [1,2,3,4,5]\n",
        "l1.remove(5)\n",
        "print(l1)\n",
        "\n",
        "\n",
        "l2 = [1,2,3,4,5]\n",
        "l2.pop(2)\n",
        "print(l2)"
      ],
      "metadata": {
        "colab": {
          "base_uri": "https://localhost:8080/"
        },
        "id": "FbyWLqNLgG7r",
        "outputId": "1c77ccd9-7e2b-401b-88b5-37cae3de9129"
      },
      "execution_count": 56,
      "outputs": [
        {
          "output_type": "stream",
          "name": "stdout",
          "text": [
            "[1, 2, 3, 4]\n",
            "[1, 2, 4, 5]\n"
          ]
        }
      ]
    },
    {
      "cell_type": "markdown",
      "source": [
        "### 12. Describe how list values and string values are identical."
      ],
      "metadata": {
        "id": "-y6CX6cp7tkk"
      }
    },
    {
      "cell_type": "markdown",
      "source": [
        "#### **Answer**: They are identical in that they are  both iterable python objects i.e. sequence "
      ],
      "metadata": {
        "id": "tlHNNJuWgYKd"
      }
    },
    {
      "cell_type": "markdown",
      "source": [
        "### 13. What&#39;s the difference between tuples and lists?"
      ],
      "metadata": {
        "id": "5u0RI5Uj7yTA"
      }
    },
    {
      "cell_type": "markdown",
      "source": [
        "#### **Answer** :  Tuples are immutable sequences; however, lists are mutable"
      ],
      "metadata": {
        "id": "N7B-cEFagsCb"
      }
    },
    {
      "cell_type": "markdown",
      "source": [
        "### 14. How do you type a tuple value that only contains the integer 42?"
      ],
      "metadata": {
        "id": "sW9Z4fKo71lZ"
      }
    },
    {
      "cell_type": "code",
      "source": [
        "# Answer here\n",
        "\n",
        "a = 42,\n",
        "print(type(a))\n",
        "print(a)"
      ],
      "metadata": {
        "colab": {
          "base_uri": "https://localhost:8080/"
        },
        "id": "gndgFIucg3N0",
        "outputId": "75c4a4b8-2ac2-4e1d-bd20-5d07a62fab10"
      },
      "execution_count": 57,
      "outputs": [
        {
          "output_type": "stream",
          "name": "stdout",
          "text": [
            "<class 'tuple'>\n",
            "(42,)\n"
          ]
        }
      ]
    },
    {
      "cell_type": "markdown",
      "source": [
        "### 15. How do you get a list value&#39;s tuple form? How do you get a tuple value&#39;s list form?"
      ],
      "metadata": {
        "id": "5z1XmQyV76SO"
      }
    },
    {
      "cell_type": "code",
      "source": [
        "# It is possible to get a list value tuple form using the tuple function. Similarly, we can get a tuples value list form using the list function.\n",
        "\n",
        "l1 = [1,2,3,4]\n",
        "l1 = tuple(l1)\n",
        "print(l1)\n",
        "\n",
        "\n",
        "l2 = ( 2,3,4,5)\n",
        "l2 = list(l2)\n",
        "print(l2)"
      ],
      "metadata": {
        "colab": {
          "base_uri": "https://localhost:8080/"
        },
        "id": "khPhVMIxg_Cz",
        "outputId": "461ce831-e7ee-44e3-9964-3d6a26d90461"
      },
      "execution_count": 58,
      "outputs": [
        {
          "output_type": "stream",
          "name": "stdout",
          "text": [
            "(1, 2, 3, 4)\n",
            "[2, 3, 4, 5]\n"
          ]
        }
      ]
    },
    {
      "cell_type": "markdown",
      "source": [
        "### 16. Variables that &quot;contain&quot; list values are not necessarily lists themselves. Instead, what do they\n",
        "contain?"
      ],
      "metadata": {
        "id": "KjZ6LA3b7-VV"
      }
    },
    {
      "cell_type": "markdown",
      "source": [
        "#### **Answer** : Sych variables are called sequences and examples include: tuple, set and dictionary"
      ],
      "metadata": {
        "id": "qavzD0-squos"
      }
    },
    {
      "cell_type": "code",
      "source": [
        "# Example of tuple\n",
        "a = ( 1, [2,3])\n",
        "print()\n",
        "print(\" Tuple containing list object :\")\n",
        "print(a)\n",
        "\n",
        "# Example of dictionary\n",
        "b =  { '2' : ['a', 'b']\n",
        "        }\n",
        "print()\n",
        "print(\"Dictionary containing list object :\")\n",
        "print()\n",
        "print(b)"
      ],
      "metadata": {
        "colab": {
          "base_uri": "https://localhost:8080/"
        },
        "id": "twjEdTEbzcpp",
        "outputId": "ef258c22-5919-4303-b6f9-85e8721cabd5"
      },
      "execution_count": 59,
      "outputs": [
        {
          "output_type": "stream",
          "name": "stdout",
          "text": [
            "\n",
            " Tuple containing list object :\n",
            "(1, [2, 3])\n",
            "\n",
            "Dictionary containing list object :\n",
            "\n",
            "{'2': ['a', 'b']}\n"
          ]
        }
      ]
    },
    {
      "cell_type": "markdown",
      "source": [
        "### 17. How do you distinguish between copy.copy() and copy.deepcopy()?"
      ],
      "metadata": {
        "id": "fKEDq93l8Gl5"
      }
    },
    {
      "cell_type": "markdown",
      "source": [
        "#### **Answer** : copy.copy() refers to a shallow copy of the original dictionary object and as such user changes to some object like a list or user defined objects instead of primitive datatypes also affects the original dictionary. To avoid such changes in the original dictionary we can use copy.deecopy() which refers to deep copy."
      ],
      "metadata": {
        "id": "-oJ4uoo_l6-_"
      }
    },
    {
      "cell_type": "code",
      "source": [
        "import copy\n",
        "\n",
        "d = { 'name' : ['abiola', 'ayo', 'tobi'],\n",
        "     'age': [33, 21, 10],\n",
        "     'nationality' : 'nigeria'\n",
        "}\n",
        "\n",
        "print(\"Using copy method \")\n",
        "\n",
        "d1 = copy.copy(d)\n",
        "print(\"\\nNewly copied dictionary d1  using copy() method:\")\n",
        "print(d1)\n",
        "\n",
        "# Make changes to the list object\n",
        "\n",
        "d1['name'].append('Tomi')\n",
        "\n",
        "print(\"\\nAppended new dictionary object d1 using copy() method\")\n",
        "print(d1)\n",
        "\n",
        "print(\"\\nOriginal dictionary d\")\n",
        "print(d)\n",
        "\n",
        "print()\n",
        "print()\n",
        "print(\"\\nUsing deepcopy method \")\n",
        "\n",
        "d = { 'name' : ['abiola', 'ayo', 'tobi'],\n",
        "     'age': [33, 21, 10],\n",
        "     'nationality' : 'nigeria'\n",
        "}\n",
        "\n",
        "d2 = copy.deepcopy(d)\n",
        "print(\"\\nNewly copied dictionary d2  using deepcopy() method:\")\n",
        "print(d2)\n",
        "\n",
        "# Make changes to the list object\n",
        "\n",
        "d2['name'].append('Tomi')\n",
        "\n",
        "print(\"\\nAppended new dictionary object d1 using deepcopy() method\")\n",
        "print(d2)\n",
        "\n",
        "print(\"\\nOriginal dictionary d\")\n",
        "print(d)"
      ],
      "metadata": {
        "colab": {
          "base_uri": "https://localhost:8080/"
        },
        "id": "CqVaZzoNlwS0",
        "outputId": "efeaa000-7534-41fb-a80e-43cbb9df35b5"
      },
      "execution_count": 60,
      "outputs": [
        {
          "output_type": "stream",
          "name": "stdout",
          "text": [
            "Using copy method \n",
            "\n",
            "Newly copied dictionary d1  using copy() method:\n",
            "{'name': ['abiola', 'ayo', 'tobi'], 'age': [33, 21, 10], 'nationality': 'nigeria'}\n",
            "\n",
            "Appended new dictionary object d1 using copy() method\n",
            "{'name': ['abiola', 'ayo', 'tobi', 'Tomi'], 'age': [33, 21, 10], 'nationality': 'nigeria'}\n",
            "\n",
            "Original dictionary d\n",
            "{'name': ['abiola', 'ayo', 'tobi', 'Tomi'], 'age': [33, 21, 10], 'nationality': 'nigeria'}\n",
            "\n",
            "\n",
            "\n",
            "Using deepcopy method \n",
            "\n",
            "Newly copied dictionary d2  using deepcopy() method:\n",
            "{'name': ['abiola', 'ayo', 'tobi'], 'age': [33, 21, 10], 'nationality': 'nigeria'}\n",
            "\n",
            "Appended new dictionary object d1 using deepcopy() method\n",
            "{'name': ['abiola', 'ayo', 'tobi', 'Tomi'], 'age': [33, 21, 10], 'nationality': 'nigeria'}\n",
            "\n",
            "Original dictionary d\n",
            "{'name': ['abiola', 'ayo', 'tobi'], 'age': [33, 21, 10], 'nationality': 'nigeria'}\n"
          ]
        }
      ]
    }
  ]
}