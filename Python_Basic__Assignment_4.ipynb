{
  "nbformat": 4,
  "nbformat_minor": 0,
  "metadata": {
    "colab": {
      "provenance": [],
      "authorship_tag": "ABX9TyPhdL0AoqMi5maHXx93eZXc",
      "include_colab_link": true
    },
    "kernelspec": {
      "name": "python3",
      "display_name": "Python 3"
    },
    "language_info": {
      "name": "python"
    }
  },
  "cells": [
    {
      "cell_type": "markdown",
      "metadata": {
        "id": "view-in-github",
        "colab_type": "text"
      },
      "source": [
        "<a href=\"https://colab.research.google.com/github/obeabi/FullStackDataScience_INEURON/blob/main/Python_Basic__Assignment_4.ipynb\" target=\"_parent\"><img src=\"https://colab.research.google.com/assets/colab-badge.svg\" alt=\"Open In Colab\"/></a>"
      ]
    },
    {
      "cell_type": "markdown",
      "source": [
        "# Python Basic Assignment 4\n",
        "## Written by: Abiola Obembe\n",
        "### Date: 2022-09-10"
      ],
      "metadata": {
        "id": "Eq-dsJnP6Vtt"
      }
    },
    {
      "cell_type": "markdown",
      "source": [
        "### 1. What exactly is []?"
      ],
      "metadata": {
        "id": "fLMjnyno6dMn"
      }
    },
    {
      "cell_type": "markdown",
      "source": [
        "### 2. In a list of values stored in a variable called spam, how would you assign the value &#39;hello&#39; as the\n",
        "third value? (Assume [2, 4, 6, 8, 10] are in spam.)"
      ],
      "metadata": {
        "id": "a49-JZCf6nfv"
      }
    },
    {
      "cell_type": "markdown",
      "source": [
        "## Let&#39;s pretend the spam includes the list [&#39;a&#39;, &#39;b&#39;, &#39;c&#39;, &#39;d&#39;] for the next three queries."
      ],
      "metadata": {
        "id": "IyCn67uZ6t82"
      }
    },
    {
      "cell_type": "markdown",
      "source": [
        "### 3. What is the value of spam[int(int(&#39;3&#39; * 2) / 11)]?"
      ],
      "metadata": {
        "id": "kWvCcsiv7Dh6"
      }
    },
    {
      "cell_type": "markdown",
      "source": [
        "### 4. What is the value of spam[-1]?"
      ],
      "metadata": {
        "id": "J2fTNyNC7FFU"
      }
    },
    {
      "cell_type": "markdown",
      "source": [
        "### 5. What is the value of spam[:2]?"
      ],
      "metadata": {
        "id": "5sg7w3Rh7NdO"
      }
    },
    {
      "cell_type": "markdown",
      "source": [
        "## Let&#39;s pretend bacon has the list [3.14, &#39;cat,&#39; 11, &#39;cat,&#39; True] for the next three questions."
      ],
      "metadata": {
        "id": "4GJqukrZ7RQf"
      }
    },
    {
      "cell_type": "markdown",
      "source": [
        "### 6. What is the value of bacon.index(&#39;cat&#39;)?"
      ],
      "metadata": {
        "id": "s4gkWInO7VQA"
      }
    },
    {
      "cell_type": "markdown",
      "source": [
        "### 7. How does bacon.append(99) change the look of the list value in bacon?"
      ],
      "metadata": {
        "id": "5kmBNJiK7b6B"
      }
    },
    {
      "cell_type": "markdown",
      "source": [
        "### 8. How does bacon.remove(&#39;cat&#39;) change the look of the list in bacon?"
      ],
      "metadata": {
        "id": "A_Jqlg6O7fWm"
      }
    },
    {
      "cell_type": "markdown",
      "source": [
        "### 9. What are the list concatenation and list replication operators?"
      ],
      "metadata": {
        "id": "PdgECHjG7jdi"
      }
    },
    {
      "cell_type": "markdown",
      "source": [
        "### 10. What is difference between the list methods append() and insert()?"
      ],
      "metadata": {
        "id": "AaYiiyt97mqF"
      }
    },
    {
      "cell_type": "markdown",
      "source": [
        "### 11. What are the two methods for removing items from a list?"
      ],
      "metadata": {
        "id": "6wLgHfrg7qRE"
      }
    },
    {
      "cell_type": "markdown",
      "source": [
        "### 12. Describe how list values and string values are identical."
      ],
      "metadata": {
        "id": "-y6CX6cp7tkk"
      }
    },
    {
      "cell_type": "markdown",
      "source": [
        "### 13. What&#39;s the difference between tuples and lists?"
      ],
      "metadata": {
        "id": "5u0RI5Uj7yTA"
      }
    },
    {
      "cell_type": "markdown",
      "source": [
        "### 14. How do you type a tuple value that only contains the integer 42?"
      ],
      "metadata": {
        "id": "sW9Z4fKo71lZ"
      }
    },
    {
      "cell_type": "markdown",
      "source": [
        "### 15. How do you get a list value&#39;s tuple form? How do you get a tuple value&#39;s list form?"
      ],
      "metadata": {
        "id": "5z1XmQyV76SO"
      }
    },
    {
      "cell_type": "markdown",
      "source": [
        "### 16. Variables that &quot;contain&quot; list values are not necessarily lists themselves. Instead, what do they\n",
        "contain?"
      ],
      "metadata": {
        "id": "KjZ6LA3b7-VV"
      }
    },
    {
      "cell_type": "markdown",
      "source": [
        "### 17. How do you distinguish between copy.copy() and copy.deepcopy()?"
      ],
      "metadata": {
        "id": "fKEDq93l8Gl5"
      }
    }
  ]
}