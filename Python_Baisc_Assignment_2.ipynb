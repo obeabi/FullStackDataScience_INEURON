{
  "nbformat": 4,
  "nbformat_minor": 0,
  "metadata": {
    "colab": {
      "name": "Python_Baisc_Assignment_2.ipynb",
      "provenance": [],
      "authorship_tag": "ABX9TyNJWGMxvv1ZoTe9mSrRohqs",
      "include_colab_link": true
    },
    "kernelspec": {
      "name": "python3",
      "display_name": "Python 3"
    },
    "language_info": {
      "name": "python"
    }
  },
  "cells": [
    {
      "cell_type": "markdown",
      "metadata": {
        "id": "view-in-github",
        "colab_type": "text"
      },
      "source": [
        "<a href=\"https://colab.research.google.com/github/obeabi/FullStackDataScience_INEURON/blob/main/Python_Baisc_Assignment_2.ipynb\" target=\"_parent\"><img src=\"https://colab.research.google.com/assets/colab-badge.svg\" alt=\"Open In Colab\"/></a>"
      ]
    },
    {
      "cell_type": "markdown",
      "source": [
        "# Python Basic Programming Assignment 2:\n",
        "\n",
        "## Written by: Abiola Obembe\n",
        "# Date : 2022-08-08"
      ],
      "metadata": {
        "id": "EW17wd9O985T"
      }
    },
    {
      "cell_type": "markdown",
      "source": [
        "### Question 1\n",
        "Write a Python program to convert kilometers to miles?"
      ],
      "metadata": {
        "id": "mOeXBJAk-ZAe"
      }
    },
    {
      "cell_type": "code",
      "source": [
        "length_kilometers = float(input(\"Input your distance or length in kilometers :\"))\n",
        "length_miles = length_kilometers * 0.62137\n",
        "print(\"The equivalent of\", length_kilometers , 'kilometers is', round(length_miles,2), 'miles')"
      ],
      "metadata": {
        "colab": {
          "base_uri": "https://localhost:8080/"
        },
        "id": "crwOjWNE-Mq_",
        "outputId": "f17aff9f-3bdd-47a7-e168-dd1aabf568f5"
      },
      "execution_count": 20,
      "outputs": [
        {
          "output_type": "stream",
          "name": "stdout",
          "text": [
            "Input your distance or length in kilometers :34\n",
            "The equivalent of 34.0 kilometers is 21.13 miles\n"
          ]
        }
      ]
    },
    {
      "cell_type": "markdown",
      "source": [
        "### Question 2\n",
        "Write a Python program to convert Celsius to Fahrenheit?"
      ],
      "metadata": {
        "id": "GrxgOyBL-faF"
      }
    },
    {
      "cell_type": "code",
      "source": [
        "temperature_celsius = float(input(\"Enter your temperature in degree Celsius here :\"))\n",
        "\n",
        "temperature_fahrenheit = (temperature_celsius *(9/5) ) + 32\n",
        "\n",
        "print(\"The equivalent of\", temperature_celsius , 'Celsius is', round(temperature_fahrenheit,2), 'Fahrenheit')"
      ],
      "metadata": {
        "colab": {
          "base_uri": "https://localhost:8080/"
        },
        "id": "SdeFu7NT-mXF",
        "outputId": "2d9ce32c-ef40-4ed4-eda7-41a52e12c974"
      },
      "execution_count": 21,
      "outputs": [
        {
          "output_type": "stream",
          "name": "stdout",
          "text": [
            "Enter your temperature in degree Celsius here :0\n",
            "The equivalent of 0.0 Celsius is 32.0 Fahrenheit\n"
          ]
        }
      ]
    },
    {
      "cell_type": "markdown",
      "source": [
        "### Question 3\n",
        "Write a Python program to display calendar?"
      ],
      "metadata": {
        "id": "ZXPFnJUZ-mhB"
      }
    },
    {
      "cell_type": "code",
      "source": [
        "import calendar\n",
        "\n",
        "mm = int(input(\"Enter calendar month of interest as an integer here :\"))\n",
        "yyyy = int(input(\"Enter calendar year of interest here :\"))\n",
        "\n",
        "print(calendar.month(yyyy,mm))"
      ],
      "metadata": {
        "colab": {
          "base_uri": "https://localhost:8080/"
        },
        "id": "_DXvcOZA-tGl",
        "outputId": "5a429f9e-9bdc-49bb-b454-6f48d60e0bf9"
      },
      "execution_count": 22,
      "outputs": [
        {
          "output_type": "stream",
          "name": "stdout",
          "text": [
            "Enter calendar month of interest as an integer here :08\n",
            "Enter calendar year of interest here :24\n",
            "     August 24\n",
            "Mo Tu We Th Fr Sa Su\n",
            "          1  2  3  4\n",
            " 5  6  7  8  9 10 11\n",
            "12 13 14 15 16 17 18\n",
            "19 20 21 22 23 24 25\n",
            "26 27 28 29 30 31\n",
            "\n"
          ]
        }
      ]
    },
    {
      "cell_type": "markdown",
      "source": [
        "### Question 4\n",
        "Write a Python program to solve quadratic equation?"
      ],
      "metadata": {
        "id": "mn9dCTex-tPN"
      }
    },
    {
      "cell_type": "code",
      "source": [
        "# \n",
        "print(\"Consider the quadratic equation of the form  ax^2 + bx + c = 0\")\n",
        "print(\"To solve for the roots of the equation :\")\n",
        "a = int(input(\" Enter the coffecient a = \"))\n",
        "b = int(input(\"Enter the coffecient  b = \"))\n",
        "c = int(input(\"Enter the coefficient c = \"))\n",
        "\n",
        "x1 = (-b + (b**2 - (4* a*c))**0.5)/(2*a)\n",
        "x2 = (-b - (b**2 - (4* a*c))**0.5)/(2*a)\n",
        "\n",
        "print(\"Thhe two roots of the quadrtatic equation\",str(a)+\"x^2 +\", str(b)+'x +', str(c)+\"= 0\",\"are as follows : \", \"root1 = \", x1, \"root 2 =\" ,x2)"
      ],
      "metadata": {
        "colab": {
          "base_uri": "https://localhost:8080/"
        },
        "id": "NLBisWr5-zei",
        "outputId": "061094cb-0f7d-4130-f8f9-e3580593d302"
      },
      "execution_count": 23,
      "outputs": [
        {
          "output_type": "stream",
          "name": "stdout",
          "text": [
            "Consider the quadratic equation of the form  ax^2 + bx + c = 0\n",
            "To solve for the roots of the equation :\n",
            " Enter the coffecient a = 1\n",
            "Enter the coffecient  b = 6\n",
            "Enter the coefficient c = 9\n",
            "Thhe two roots of the quadrtatic equation 1x^2 + 6x + 9= 0 are as follows :  root1 =  -3.0 root 2 = -3.0\n"
          ]
        }
      ]
    },
    {
      "cell_type": "markdown",
      "source": [
        "### Question 5\n",
        "Write a Python program to swap two variables without temp variable?"
      ],
      "metadata": {
        "id": "69vfoKCQ-zmf"
      }
    },
    {
      "cell_type": "code",
      "source": [
        "x = float(input(\"Enter the value of the first variable here :\"))\n",
        "y = float(input(\"Enter the value of the second variable here :\"))\n",
        "x, y = y, x\n",
        "print(\"x = \" ,x, \"and y = \", y)"
      ],
      "metadata": {
        "colab": {
          "base_uri": "https://localhost:8080/"
        },
        "id": "jm6h-9PuFUWW",
        "outputId": "adfc1dae-c216-4b48-d8fc-f478374dfdd4"
      },
      "execution_count": 25,
      "outputs": [
        {
          "output_type": "stream",
          "name": "stdout",
          "text": [
            "Enter the value of the first variable here :6\n",
            "Enter the value of the second variable here :8.6\n",
            "x =  8.6 and y =  6.0\n"
          ]
        }
      ]
    }
  ]
}