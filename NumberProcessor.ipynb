{
  "nbformat": 4,
  "nbformat_minor": 0,
  "metadata": {
    "colab": {
      "provenance": [],
      "authorship_tag": "ABX9TyO6XXytHJxrVtH/3WfEbxbv",
      "include_colab_link": true
    },
    "kernelspec": {
      "name": "python3",
      "display_name": "Python 3"
    },
    "language_info": {
      "name": "python"
    }
  },
  "cells": [
    {
      "cell_type": "markdown",
      "metadata": {
        "id": "view-in-github",
        "colab_type": "text"
      },
      "source": [
        "<a href=\"https://colab.research.google.com/github/obeabi/FullStackDataScience_INEURON/blob/main/NumberProcessor.ipynb\" target=\"_parent\"><img src=\"https://colab.research.google.com/assets/colab-badge.svg\" alt=\"Open In Colab\"/></a>"
      ]
    },
    {
      "cell_type": "code",
      "execution_count": 46,
      "metadata": {
        "colab": {
          "base_uri": "https://localhost:8080/"
        },
        "id": "tMWBlgCN62lt",
        "outputId": "d5bc3e38-f77b-479f-f9a4-c682e55109e7"
      },
      "outputs": [
        {
          "output_type": "stream",
          "name": "stdout",
          "text": [
            "Enter a line of numbers - separate them with spaces: \n",
            "The total is: 0\n"
          ]
        }
      ],
      "source": [
        "# Numbers Processor.\n",
        "# The code has one important weakness - it displays a bogus result when the user enters an empty line. Can you fix it?\n",
        "line = input(\"Enter a line of numbers - separate them with spaces: \")\n",
        "strings = line.split()\n",
        "total = 0\n",
        "try:\n",
        "    for substr in strings:\n",
        "        total += float(substr)\n",
        "    print(\"The total is:\", total)\n",
        "except:\n",
        "    print(substr, \"is not a number.\")\n",
        "\n",
        "\n"
      ]
    },
    {
      "cell_type": "code",
      "source": [
        "# Abiola's Numbers Processor modified.\n",
        "\n",
        "line = input(\"Enter a line of numbers - separate them with spaces: \")\n",
        "strings = line.split()\n",
        "total = 0\n",
        "try:\n",
        "    for substr in strings:\n",
        "        total += float(substr)\n",
        "    \n",
        "except:\n",
        "    print(substr, \"is not a number.\")\n",
        "# Abiola edit here\n",
        "else:\n",
        "  if not len(strings) == 0:\n",
        "    print(\"The total is:\", total)\n",
        "  else:\n",
        "    print(\"input is not a number\")\n",
        "    \n"
      ],
      "metadata": {
        "colab": {
          "base_uri": "https://localhost:8080/"
        },
        "id": "3GJALU1lD7SN",
        "outputId": "d387c1cb-2255-42da-80c0-2c88591e899f"
      },
      "execution_count": 49,
      "outputs": [
        {
          "output_type": "stream",
          "name": "stdout",
          "text": [
            "Enter a line of numbers - separate them with spaces: \n",
            "input is not a number\n"
          ]
        }
      ]
    }
  ]
}