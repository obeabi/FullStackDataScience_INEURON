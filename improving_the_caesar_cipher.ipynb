{
  "nbformat": 4,
  "nbformat_minor": 0,
  "metadata": {
    "colab": {
      "provenance": [],
      "authorship_tag": "ABX9TyNpv5Q9oPj2NXAHhEuXU9p5",
      "include_colab_link": true
    },
    "kernelspec": {
      "name": "python3",
      "display_name": "Python 3"
    },
    "language_info": {
      "name": "python"
    }
  },
  "cells": [
    {
      "cell_type": "markdown",
      "metadata": {
        "id": "view-in-github",
        "colab_type": "text"
      },
      "source": [
        "<a href=\"https://colab.research.google.com/github/obeabi/FullStackDataScience_INEURON/blob/main/improving_the_caesar_cipher.ipynb\" target=\"_parent\"><img src=\"https://colab.research.google.com/assets/colab-badge.svg\" alt=\"Open In Colab\"/></a>"
      ]
    },
    {
      "cell_type": "markdown",
      "source": [
        "## Scenario\n",
        "You are already familiar with the Caesar cipher, and this is why we want you to improve the code we showed you recently.\n",
        "\n",
        "The original Caesar cipher shifts each character by one: a becomes b, z becomes a, and so on. Let's make it a bit harder, and allow the shifted value to come from the range 1..25 inclusive.\n",
        "\n",
        "Moreover, let the code preserve the letters' case (lower-case letters will remain lower-case) and all non-alphabetical characters should remain untouched.\n",
        "\n",
        "Your task is to write a program which:\n",
        "\n",
        "1. asks the user for one line of text to encrypt;\n",
        "\n",
        "2. asks the user for a shift value (an integer number from the range 1..25 - note: you should force the user to enter a valid shift value (don't give up and don't let bad data fool you!)\n",
        "\n",
        "3. prints out the encoded text.\n"
      ],
      "metadata": {
        "id": "Fw54IzU811Pj"
      }
    },
    {
      "cell_type": "code",
      "source": [
        "my_text = input(\"Enter line of text to encrypt here :\")\n",
        "shift_value = input(\" Enter an integer number from the range 1 to 25 :\")\n",
        "encrypt = ''\n",
        "\n",
        "\n",
        "try:\n",
        "  shift_value = int(shift_value)\n",
        "  if shift_value < 1 or shift_value > 25:\n",
        "      raise ValueError\n",
        "  for char in my_text:\n",
        "     if not char.isalpha():\n",
        "       encrypt += char\n",
        "       continue\n",
        "\n",
        "     if char.islower():\n",
        "        code = ord(char) + shift_value \n",
        "        if code <= ord('z'):\n",
        "           encrypt += chr(code)\n",
        "        elif code > ord('z'):\n",
        "            code += ord('a') - ord('z') - 1\n",
        "            encrypt += chr(code)\n",
        "     elif char.isupper():\n",
        "       code = ord(char) + shift_value \n",
        "       if code <= ord('Z'):\n",
        "           encrypt += chr(code)\n",
        "       elif code > ord('Z'):\n",
        "            code += ord('A') - ord('Z') - 1\n",
        "            encrypt += chr(code)  \n",
        "except Exception as e:\n",
        "  print(\"Invald shift value data type. Please Enter an integer number from the range 1 to 25 \")\n",
        "  print(e)\n",
        "else:\n",
        "  print(encrypt)"
      ],
      "metadata": {
        "colab": {
          "base_uri": "https://localhost:8080/"
        },
        "id": "K-gqu10n2W_j",
        "outputId": "d4d7edc1-6b99-4f75-9abf-a2210642f56f"
      },
      "execution_count": 17,
      "outputs": [
        {
          "output_type": "stream",
          "name": "stdout",
          "text": [
            "Enter line of text to encrypt here :TYRZSW 78\n",
            " Enter an integer number from the range 1 to 25 :45\n",
            "Invald shift value data type. Please Enter an integer number from the range 1 to 25 \n",
            "\n"
          ]
        }
      ]
    }
  ]
}