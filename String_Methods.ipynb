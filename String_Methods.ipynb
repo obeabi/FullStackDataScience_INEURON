{
  "nbformat": 4,
  "nbformat_minor": 0,
  "metadata": {
    "colab": {
      "provenance": [],
      "authorship_tag": "ABX9TyOgljnr5H56+NpswsyApbmS",
      "include_colab_link": true
    },
    "kernelspec": {
      "name": "python3",
      "display_name": "Python 3"
    },
    "language_info": {
      "name": "python"
    }
  },
  "cells": [
    {
      "cell_type": "markdown",
      "metadata": {
        "id": "view-in-github",
        "colab_type": "text"
      },
      "source": [
        "<a href=\"https://colab.research.google.com/github/obeabi/FullStackDataScience_INEURON/blob/main/String_Methods.ipynb\" target=\"_parent\"><img src=\"https://colab.research.google.com/assets/colab-badge.svg\" alt=\"Open In Colab\"/></a>"
      ]
    },
    {
      "cell_type": "markdown",
      "source": [
        "# Objectives\n",
        "*. improving the student's skills in operating with strings;\n",
        "\n",
        "*. using built-in Python string methods.\n",
        "\n",
        "## Scenario\n",
        "You already know how split() works. Now we want you to prove it.\n",
        "\n",
        "Your task is to **write your own function, which behaves almost exactly like the original split() method**, i.e.:\n",
        "\n",
        "1. it should accept exactly one argument - a string;\n",
        "\n",
        "2. it should return a list of words created from the string, divided in the  places where the string contains whitespaces;\n",
        "\n",
        "3. if the string is empty, the function should return an empty list;\n",
        "\n",
        "4. its name should be mysplit()"
      ],
      "metadata": {
        "id": "Uc-tamIpFgDn"
      }
    },
    {
      "cell_type": "code",
      "source": [
        "def mysplit(strng):\n",
        "    #\n",
        "    # put your code here\n",
        "    if len(strng)== 0:\n",
        "        return  []\n",
        "    else:\n",
        "       return strng.split()\n",
        "    \n",
        "\n",
        "\n",
        "print(mysplit(\"To be or not to be, that is the question\"))\n",
        "print(mysplit(\"To be or not to be,that is the question\"))\n",
        "print(mysplit(\"   \"))\n",
        "print(mysplit(\" abc \"))\n",
        "print(mysplit(\"\"))\n"
      ],
      "metadata": {
        "colab": {
          "base_uri": "https://localhost:8080/"
        },
        "id": "m6VaNKyEGISp",
        "outputId": "f1459b29-f8e4-44ec-9ff8-790d9b8497c3"
      },
      "execution_count": 1,
      "outputs": [
        {
          "output_type": "stream",
          "name": "stdout",
          "text": [
            "['To', 'be', 'or', 'not', 'to', 'be,', 'that', 'is', 'the', 'question']\n",
            "['To', 'be', 'or', 'not', 'to', 'be,that', 'is', 'the', 'question']\n",
            "[]\n",
            "['abc']\n",
            "[]\n"
          ]
        }
      ]
    }
  ]
}