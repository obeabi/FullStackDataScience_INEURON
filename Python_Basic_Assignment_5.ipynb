{
  "nbformat": 4,
  "nbformat_minor": 0,
  "metadata": {
    "colab": {
      "provenance": [],
      "collapsed_sections": [
        "I0kU0ShPMA9p",
        "v1N00fFRNCeA"
      ],
      "authorship_tag": "ABX9TyMgu5ug94vnaph5tCw54O//",
      "include_colab_link": true
    },
    "kernelspec": {
      "name": "python3",
      "display_name": "Python 3"
    },
    "language_info": {
      "name": "python"
    }
  },
  "cells": [
    {
      "cell_type": "markdown",
      "metadata": {
        "id": "view-in-github",
        "colab_type": "text"
      },
      "source": [
        "<a href=\"https://colab.research.google.com/github/obeabi/FullStackDataScience_INEURON/blob/main/Python_Basic_Assignment_5.ipynb\" target=\"_parent\"><img src=\"https://colab.research.google.com/assets/colab-badge.svg\" alt=\"Open In Colab\"/></a>"
      ]
    },
    {
      "cell_type": "markdown",
      "source": [
        "# Python Basic Assignment 5\n",
        "## Written by: Abiola Obembe\n",
        "### Date: 2022-10-16"
      ],
      "metadata": {
        "id": "dQrhPHTx2hxN"
      }
    },
    {
      "cell_type": "markdown",
      "source": [
        "1. What does an empty dictionary&#39;s code look like?"
      ],
      "metadata": {
        "id": "Tv48xBuo2mv9"
      }
    },
    {
      "cell_type": "code",
      "source": [
        "# Answer here\n",
        "\n",
        "dict ={}\n",
        "print(dict)\n",
        "print(\"\\nType of object is \", type(dict))"
      ],
      "metadata": {
        "colab": {
          "base_uri": "https://localhost:8080/"
        },
        "id": "NZUQUKvx2xYv",
        "outputId": "0fd6a552-9497-4a5d-cece-f69be99b24de"
      },
      "execution_count": 1,
      "outputs": [
        {
          "output_type": "stream",
          "name": "stdout",
          "text": [
            "{}\n",
            "\n",
            "Type of object is  <class 'dict'>\n"
          ]
        }
      ]
    },
    {
      "cell_type": "markdown",
      "source": [
        "2. What is the value of a dictionary value with the key &#39;foo&#39; and the value 42?"
      ],
      "metadata": {
        "id": "2VkjUi_d2t2F"
      }
    },
    {
      "cell_type": "code",
      "source": [
        "# The value of the dictionary with key 'foo' and value 42 is as below: \n",
        "\n",
        "dict = { 'foo': 42}\n",
        "print(dict['foo'])"
      ],
      "metadata": {
        "colab": {
          "base_uri": "https://localhost:8080/"
        },
        "id": "PUddKVy720q2",
        "outputId": "1355647f-3aa4-444f-a547-31bddebf0f17"
      },
      "execution_count": 2,
      "outputs": [
        {
          "output_type": "stream",
          "name": "stdout",
          "text": [
            "42\n"
          ]
        }
      ]
    },
    {
      "cell_type": "markdown",
      "source": [
        "3. What is the most significant distinction between a dictionary and a list?"
      ],
      "metadata": {
        "id": "irZj-kK52017"
      }
    },
    {
      "cell_type": "markdown",
      "source": [
        "#### **Answer** : A dictionary consist of key-value pair in its definition and is encoded in curly brackets. A list in the other hand consist of values in its definition and is encoded in square bracket"
      ],
      "metadata": {
        "id": "I0kU0ShPMA9p"
      }
    },
    {
      "cell_type": "code",
      "source": [
        "# Example of a list\n",
        "l1 = [1 ,2,3]\n",
        "\n",
        "# Example of dictionary\n",
        "d1 ={2: [4,5,6],\n",
        "     'a': 'sudh'}\n",
        "\n",
        "print(l1)\n",
        "print()\n",
        "print(d1)"
      ],
      "metadata": {
        "colab": {
          "base_uri": "https://localhost:8080/"
        },
        "id": "BDG4v8M324AF",
        "outputId": "918b026b-b971-42fb-9e1d-e44ffa9f0657"
      },
      "execution_count": 3,
      "outputs": [
        {
          "output_type": "stream",
          "name": "stdout",
          "text": [
            "[1, 2, 3]\n",
            "\n",
            "{2: [4, 5, 6], 'a': 'sudh'}\n"
          ]
        }
      ]
    },
    {
      "cell_type": "markdown",
      "source": [
        "4. What happens if you try to access spam[&#39;foo&#39;] if spam is {&#39;bar&#39;: 100}?"
      ],
      "metadata": {
        "id": "eOmTftNO24J-"
      }
    },
    {
      "cell_type": "markdown",
      "source": [
        "#### **Answer** : This results in the Python interpreter rasing an exception (i.e. KeyError exception)."
      ],
      "metadata": {
        "id": "v1N00fFRNCeA"
      }
    },
    {
      "cell_type": "code",
      "source": [
        "# Answer here\n",
        "spam = { 'bar': 100}\n",
        "\n",
        "print(spam['foo'])"
      ],
      "metadata": {
        "colab": {
          "base_uri": "https://localhost:8080/",
          "height": 200
        },
        "id": "G7lwgtYi293N",
        "outputId": "dc76a47f-3c71-47bd-cce6-e1d45f22e0a5"
      },
      "execution_count": 4,
      "outputs": [
        {
          "output_type": "error",
          "ename": "KeyError",
          "evalue": "ignored",
          "traceback": [
            "\u001b[0;31m---------------------------------------------------------------------------\u001b[0m",
            "\u001b[0;31mKeyError\u001b[0m                                  Traceback (most recent call last)",
            "\u001b[0;32m<ipython-input-4-3e1210318ab7>\u001b[0m in \u001b[0;36m<module>\u001b[0;34m\u001b[0m\n\u001b[1;32m      2\u001b[0m \u001b[0mspam\u001b[0m \u001b[0;34m=\u001b[0m \u001b[0;34m{\u001b[0m \u001b[0;34m'bar'\u001b[0m\u001b[0;34m:\u001b[0m \u001b[0;36m100\u001b[0m\u001b[0;34m}\u001b[0m\u001b[0;34m\u001b[0m\u001b[0;34m\u001b[0m\u001b[0m\n\u001b[1;32m      3\u001b[0m \u001b[0;34m\u001b[0m\u001b[0m\n\u001b[0;32m----> 4\u001b[0;31m \u001b[0mprint\u001b[0m\u001b[0;34m(\u001b[0m\u001b[0mspam\u001b[0m\u001b[0;34m[\u001b[0m\u001b[0;34m'foo'\u001b[0m\u001b[0;34m]\u001b[0m\u001b[0;34m)\u001b[0m\u001b[0;34m\u001b[0m\u001b[0;34m\u001b[0m\u001b[0m\n\u001b[0m",
            "\u001b[0;31mKeyError\u001b[0m: 'foo'"
          ]
        }
      ]
    },
    {
      "cell_type": "markdown",
      "source": [
        "5. If a dictionary is stored in spam, what is the difference between the expressions &#39;cat&#39; in spam and\n",
        "&#39;cat&#39; in spam.keys()?"
      ],
      "metadata": {
        "id": "swabIpbE2-Bh"
      }
    },
    {
      "cell_type": "markdown",
      "source": [
        "#### **Answer** : Both expressions will return the same value since using the expression 'cat' in spam searches for the string cat in the keys of the spam dictionary object. Therefore both expressions are searching for the string cat in the same location."
      ],
      "metadata": {
        "id": "uLpKOOiOOEp9"
      }
    },
    {
      "cell_type": "code",
      "source": [
        "# Answer here\n",
        "spam = {'a': 1,\n",
        "        'b': 2,\n",
        "        'cat': 3}\n",
        "\n",
        "print('cat' in spam)  \n",
        "print('cat' in spam.keys())\n",
        "\n",
        "\n",
        "\n"
      ],
      "metadata": {
        "colab": {
          "base_uri": "https://localhost:8080/"
        },
        "id": "Wm4NXAiV3Jm1",
        "outputId": "e6d708c7-8a99-49f2-af8e-51f36631f1d0"
      },
      "execution_count": 5,
      "outputs": [
        {
          "output_type": "stream",
          "name": "stdout",
          "text": [
            "True\n",
            "True\n",
            "dict_keys(['a', 'b', 'cat'])\n",
            "\n",
            "dict_values([1, 2, 3])\n"
          ]
        }
      ]
    },
    {
      "cell_type": "markdown",
      "source": [
        "6. If a dictionary is stored in spam, what is the difference between the expressions &#39;cat&#39; in spam and\n",
        "&#39;cat&#39; in spam.values()?"
      ],
      "metadata": {
        "id": "iEtgmvNU3JwV"
      }
    },
    {
      "cell_type": "markdown",
      "source": [
        "#### **Answer** : 'Cat' in spam searches for the string sact in the dictionary key. However, 'cat' in spam.values() searches for the string cat in the values of the dictionary spam. Therefore both expressions are finding the string cat in different locations of the dictionary."
      ],
      "metadata": {
        "id": "dcgSjAxhRyuh"
      }
    },
    {
      "cell_type": "code",
      "source": [
        "# Answer here\n",
        "spam = {'a': 1,\n",
        "        'b': 2,\n",
        "        'c': 'cat'}\n",
        "\n",
        "print('cat' in spam)  \n",
        "print('cat' in spam.values())\n",
        "\n",
        "\n"
      ],
      "metadata": {
        "colab": {
          "base_uri": "https://localhost:8080/"
        },
        "id": "ZMLYc50O3MDM",
        "outputId": "62477c89-6716-4cfb-deb9-aa2546f32e26"
      },
      "execution_count": 8,
      "outputs": [
        {
          "output_type": "stream",
          "name": "stdout",
          "text": [
            "False\n",
            "True\n"
          ]
        }
      ]
    },
    {
      "cell_type": "markdown",
      "source": [
        "7. What is a shortcut for the following code?\n",
        "if &#39;color&#39; not in spam:\n",
        "spam[&#39;color&#39;] = &#39;black&#39;"
      ],
      "metadata": {
        "id": "EcdeMQPR3MNU"
      }
    },
    {
      "cell_type": "code",
      "source": [
        "#Answer here\n",
        "spam = {'color': 'black'}\n",
        "if not 'color' in spam:\n",
        "  print(\"Color not a key in spam dictionary\")\n",
        "else:\n",
        "  print('Color is a key in spam dictionary')"
      ],
      "metadata": {
        "colab": {
          "base_uri": "https://localhost:8080/"
        },
        "id": "vDG8LhkJ3Sh9",
        "outputId": "a924f897-7e5b-4ab9-aec0-d797b4944bb3"
      },
      "execution_count": 9,
      "outputs": [
        {
          "output_type": "stream",
          "name": "stdout",
          "text": [
            "Color is a key in spam dictionary\n"
          ]
        }
      ]
    },
    {
      "cell_type": "markdown",
      "source": [
        "8. How do you &quot;pretty print&quot; dictionary values using which module and function?"
      ],
      "metadata": {
        "id": "6VmX8g9I3Sr9"
      }
    },
    {
      "cell_type": "markdown",
      "source": [
        "#### **Answer**: The pprint module and the pprint function as shown below"
      ],
      "metadata": {
        "id": "CaP-6Sct77Mc"
      }
    },
    {
      "cell_type": "code",
      "source": [
        "# Answer here\n",
        "import pprint\n",
        "\n",
        "sample_dict = {'name': 'Abiola', 'age': 23 , 'gender': 'male', 'books': ['Full Stack', 'Stats for Data Scientist']}\n",
        "pprint.pprint(sample_dict)\n",
        "print(\"\\nUsing default print function\")\n",
        "print(sample_dict)"
      ],
      "metadata": {
        "colab": {
          "base_uri": "https://localhost:8080/"
        },
        "id": "W0lisTsI71r3",
        "outputId": "94091747-30dd-484f-f021-c64d584d3964"
      },
      "execution_count": 10,
      "outputs": [
        {
          "output_type": "stream",
          "name": "stdout",
          "text": [
            "{'age': 23,\n",
            " 'books': ['Full Stack', 'Stats for Data Scientist'],\n",
            " 'gender': 'male',\n",
            " 'name': 'Abiola'}\n",
            "\n",
            "Using default print function\n",
            "{'name': 'Abiola', 'age': 23, 'gender': 'male', 'books': ['Full Stack', 'Stats for Data Scientist']}\n"
          ]
        }
      ]
    }
  ]
}