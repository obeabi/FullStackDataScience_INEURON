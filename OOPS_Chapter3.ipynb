{
  "nbformat": 4,
  "nbformat_minor": 0,
  "metadata": {
    "colab": {
      "provenance": [],
      "authorship_tag": "ABX9TyMqYTZceXH/l2N2vc0iUa8K",
      "include_colab_link": true
    },
    "kernelspec": {
      "name": "python3",
      "display_name": "Python 3"
    },
    "language_info": {
      "name": "python"
    }
  },
  "cells": [
    {
      "cell_type": "markdown",
      "metadata": {
        "id": "view-in-github",
        "colab_type": "text"
      },
      "source": [
        "<a href=\"https://colab.research.google.com/github/obeabi/FullStackDataScience_INEURON/blob/main/OOPS_Chapter3.ipynb\" target=\"_parent\"><img src=\"https://colab.research.google.com/assets/colab-badge.svg\" alt=\"Open In Colab\"/></a>"
      ]
    },
    {
      "cell_type": "markdown",
      "source": [
        "Exercise 1\n",
        "\n",
        "Assuming that there is a class named Snakes, write the very first line of the Python class declaration, expressing the fact that the new class is actually a subclass of Snake."
      ],
      "metadata": {
        "id": "Z4ez_QNnoHdW"
      }
    },
    {
      "cell_type": "code",
      "source": [
        "# Superclass\n",
        "\n",
        "class Snakes:\n",
        "  def __init__(self):\n",
        "    pass\n",
        "\n",
        "\n",
        "class Python(Snakes):\n",
        "  def __init__(self):\n",
        "    super().__init__()\n",
        "    self.__color = 'black'\n",
        "\n",
        "  def __str__(self):\n",
        "    return 'This is my Python subclass'\n",
        "\n",
        "cobra = Python()\n",
        "print(cobra)"
      ],
      "metadata": {
        "colab": {
          "base_uri": "https://localhost:8080/"
        },
        "id": "cTGIxYrBoKMy",
        "outputId": "de74dc6a-7b04-4d8f-80c4-62016bb579ab"
      },
      "execution_count": 2,
      "outputs": [
        {
          "output_type": "stream",
          "name": "stdout",
          "text": [
            "This is my Python subclass\n"
          ]
        }
      ]
    },
    {
      "cell_type": "markdown",
      "source": [
        "Exercise 2\n",
        "\n",
        "Something is missing from the following declaration – what?\n",
        "\n",
        "class Snakes:\n",
        "    def __init__():\n",
        "        self.sound = 'Sssssss'\n"
      ],
      "metadata": {
        "id": "H2VnwFRroFSo"
      }
    },
    {
      "cell_type": "code",
      "source": [
        "class Snakes(object):\n",
        "  def __init__(self):\n",
        "    self.sound = 'Ssss'\n",
        "\n",
        "boar = Snakes()\n",
        "print(boar.sound)"
      ],
      "metadata": {
        "colab": {
          "base_uri": "https://localhost:8080/"
        },
        "id": "0MFhOpqVpiVq",
        "outputId": "633afe03-9884-4e2c-d698-3ee8f39e37de"
      },
      "execution_count": 6,
      "outputs": [
        {
          "output_type": "stream",
          "name": "stdout",
          "text": [
            "Ssss\n"
          ]
        }
      ]
    },
    {
      "cell_type": "markdown",
      "source": [
        "Exercise 3\n",
        "\n",
        "Modify the code to guarantee that the venomous property is private.\n",
        "\n",
        "class Snakes:    \n",
        "    def __init__(self):\n",
        "\n",
        "        self.venomous = True\n",
        "\t\t"
      ],
      "metadata": {
        "id": "B32K_o3Dp9zO"
      }
    },
    {
      "cell_type": "code",
      "source": [
        "class Snakes:\n",
        "  def __init__(self):\n",
        "    self.__venomous = True\n",
        "    self._color = 'green'"
      ],
      "metadata": {
        "id": "qSv7ckoJqAf8"
      },
      "execution_count": 8,
      "outputs": []
    },
    {
      "cell_type": "code",
      "source": [
        "pythonn = Snakes()\n",
        "\n",
        "print(pythonn._color)\n",
        "print(pythonn._Snakes__venomous)"
      ],
      "metadata": {
        "colab": {
          "base_uri": "https://localhost:8080/"
        },
        "id": "eMg6Z1rvqeA3",
        "outputId": "b14cedc9-4860-40af-90f7-2c82e8a89e61"
      },
      "execution_count": 11,
      "outputs": [
        {
          "output_type": "stream",
          "name": "stdout",
          "text": [
            "green\n",
            "True\n"
          ]
        }
      ]
    }
  ]
}