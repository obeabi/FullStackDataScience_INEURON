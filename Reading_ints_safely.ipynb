{
  "nbformat": 4,
  "nbformat_minor": 0,
  "metadata": {
    "colab": {
      "provenance": [],
      "authorship_tag": "ABX9TyPPUuPmUU0Ca1QzmM6sd2yV",
      "include_colab_link": true
    },
    "kernelspec": {
      "name": "python3",
      "display_name": "Python 3"
    },
    "language_info": {
      "name": "python"
    }
  },
  "cells": [
    {
      "cell_type": "markdown",
      "metadata": {
        "id": "view-in-github",
        "colab_type": "text"
      },
      "source": [
        "<a href=\"https://colab.research.google.com/github/obeabi/FullStackDataScience_INEURON/blob/main/Reading_ints_safely.ipynb\" target=\"_parent\"><img src=\"https://colab.research.google.com/assets/colab-badge.svg\" alt=\"Open In Colab\"/></a>"
      ]
    },
    {
      "cell_type": "markdown",
      "source": [
        "# Scenario\n",
        "\n",
        "Your task is to write a function able to input integer values and to check if they are within a specified range.\n",
        "\n",
        "The function should:\n",
        "\n",
        "1. accept three arguments: a prompt, a low acceptable limit, and a high acceptable limit;\n",
        "\n",
        "2. if the user enters a string that is not an integer value, the function should emit the message Error: wrong input, and ask the user to input the value again;\n",
        "\n",
        "3. if the user enters a number which falls outside the specified range, the function should emit the message Error: the value is not within permitted range (min..max) and ask the user to input the value again;\n",
        "\n",
        "\n",
        "4.  if the input value is valid, return it as a result.\n",
        "\n",
        "\n",
        "\n",
        "## Test data\n",
        "\n",
        "\n",
        "Test your code carefully.\n",
        "\n",
        "This is how the function should react to the user's input:\n",
        "\n",
        "1. Enter a number from -10 to 10: 100\n",
        "\n",
        "    Error: the value is not within permitted range (-10..10)\n",
        "\n",
        "\n",
        "2.  Enter a number from -10 to 10: asd\n",
        "\n",
        "    Error: wrong input\n",
        "\n",
        "\n",
        "3. Enter number from -10 to 10: 1\n",
        "\n",
        "   The number is: 1"
      ],
      "metadata": {
        "id": "IJpM1K27cySH"
      }
    },
    {
      "cell_type": "code",
      "execution_count": 4,
      "metadata": {
        "id": "oT4oZNUNbarY"
      },
      "outputs": [],
      "source": [
        "def read_int(prompt, min, max):\n",
        "    #\n",
        "    # Write your code here.\n",
        "    try:\n",
        "        \n",
        "        my_prompt = int(input(prompt))\n",
        "        assert (my_prompt < max) & (my_prompt > min)\n",
        "        #return my_prompt\n",
        "    except ValueError:\n",
        "        print('Error: wrong input, enter a valid number again')\n",
        "    except AssertionError:\n",
        "        print('Error: the value is not within permitted range (' , str(min)+'..', str(max),')')\n",
        "    else:\n",
        "        return my_prompt"
      ]
    },
    {
      "cell_type": "markdown",
      "source": [
        "## Test one"
      ],
      "metadata": {
        "id": "jgbAfcFwdp3q"
      }
    },
    {
      "cell_type": "code",
      "source": [
        "if __name__ == '__main__':\n",
        "  v = read_int(\"Enter a number from -10 to 10: \", -10, 10)\n",
        "  print(v)\n"
      ],
      "metadata": {
        "colab": {
          "base_uri": "https://localhost:8080/"
        },
        "id": "3T9f9YW9dgXC",
        "outputId": "0da58f64-6cb9-4ccd-a41f-84aa61a3fdb8"
      },
      "execution_count": 2,
      "outputs": [
        {
          "output_type": "stream",
          "name": "stdout",
          "text": [
            "Enter a number from -10 to 10: 100\n",
            "Error: the value is not within permitted range ( -10.. 10 )\n",
            "None\n"
          ]
        }
      ]
    },
    {
      "cell_type": "markdown",
      "source": [
        "## Test two"
      ],
      "metadata": {
        "id": "TZzXf_qydxOr"
      }
    },
    {
      "cell_type": "code",
      "source": [
        "if __name__ == '__main__':\n",
        "  v = read_int(\"Enter a number from -10 to 10: \", -10, 10)\n",
        "  print(v)"
      ],
      "metadata": {
        "colab": {
          "base_uri": "https://localhost:8080/"
        },
        "id": "JUYs_4ZAdwVI",
        "outputId": "eff51010-a93d-40f3-eca4-e66b4c8be7f2"
      },
      "execution_count": 5,
      "outputs": [
        {
          "output_type": "stream",
          "name": "stdout",
          "text": [
            "Enter a number from -10 to 10: asd\n",
            "Error: wrong input, enter a valid number again\n",
            "None\n"
          ]
        }
      ]
    },
    {
      "cell_type": "markdown",
      "source": [
        "## Test three"
      ],
      "metadata": {
        "id": "cqvfCFZQd-Yq"
      }
    },
    {
      "cell_type": "code",
      "source": [
        "if __name__ == '__main__':\n",
        "  v = read_int(\"Enter a number from -10 to 10: \", -10, 10)\n",
        "  print(v)\n"
      ],
      "metadata": {
        "colab": {
          "base_uri": "https://localhost:8080/"
        },
        "id": "dT7YgJ8yeAER",
        "outputId": "8475a0ac-dc1e-40d5-ab1c-a53867fcafa2"
      },
      "execution_count": 6,
      "outputs": [
        {
          "output_type": "stream",
          "name": "stdout",
          "text": [
            "Enter a number from -10 to 10: 1\n",
            "1\n"
          ]
        }
      ]
    }
  ]
}