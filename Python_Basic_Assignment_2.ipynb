{
  "nbformat": 4,
  "nbformat_minor": 0,
  "metadata": {
    "colab": {
      "name": "Python_Basic_Assignment_2.ipynb",
      "provenance": [],
      "authorship_tag": "ABX9TyPyGbKjC5kRWX0tt/AVBm2p",
      "include_colab_link": true
    },
    "kernelspec": {
      "name": "python3",
      "display_name": "Python 3"
    },
    "language_info": {
      "name": "python"
    }
  },
  "cells": [
    {
      "cell_type": "markdown",
      "metadata": {
        "id": "view-in-github",
        "colab_type": "text"
      },
      "source": [
        "<a href=\"https://colab.research.google.com/github/obeabi/FullStackDataScience_INEURON/blob/main/Python_Basic_Assignment_2.ipynb\" target=\"_parent\"><img src=\"https://colab.research.google.com/assets/colab-badge.svg\" alt=\"Open In Colab\"/></a>"
      ]
    },
    {
      "cell_type": "markdown",
      "source": [
        "# Python Basic  Assignment 2:\n",
        "\n",
        "## Written by: Abiola Obembe\n",
        "# Date : 2022-08-08"
      ],
      "metadata": {
        "id": "0tFypjqzWWDW"
      }
    },
    {
      "cell_type": "markdown",
      "source": [
        "### Question 1\n",
        "What are the two values of the Boolean data type? How do you write them?"
      ],
      "metadata": {
        "id": "QjzqajCrWaCl"
      }
    },
    {
      "cell_type": "markdown",
      "source": [
        "### Answer"
      ],
      "metadata": {
        "id": "pXQD5BYFWiJV"
      }
    },
    {
      "cell_type": "markdown",
      "source": [
        "### Question 2\n",
        "What are the three different types of Boolean operators?"
      ],
      "metadata": {
        "id": "qW3rn02JWn-s"
      }
    },
    {
      "cell_type": "markdown",
      "source": [
        "### Answer"
      ],
      "metadata": {
        "id": "Ri0s-M93WrvK"
      }
    },
    {
      "cell_type": "markdown",
      "source": [
        "### Question 3\n",
        "Make a list of each Boolean operator's truth tables (i.e. every possible combination of Boolean values for the operator and what it evaluate )."
      ],
      "metadata": {
        "id": "QNIqCRfgWt80"
      }
    },
    {
      "cell_type": "markdown",
      "source": [
        "### Answer"
      ],
      "metadata": {
        "id": "NXXOP-_lW_w9"
      }
    },
    {
      "cell_type": "markdown",
      "source": [
        "### Question 4\n",
        "\n",
        "What are the values of the following expressions?"
      ],
      "metadata": {
        "id": "nFHcJdmNXCr8"
      }
    },
    {
      "cell_type": "markdown",
      "source": [
        "\n",
        "\n",
        "\n",
        "\n",
        "\n",
        "\n",
        "*   (5 > 4) and (3 == 5)\n",
        "*   not (5 > 4)\n",
        "*   (5 > 4) or (3 == 5)\n",
        "*   not ((5 > 4) or (3 == 5))\n",
        "*   (True and True) and (True == False)\n",
        "*   (not False) or (not True)\n",
        "\n",
        "\n",
        "\n",
        "\n",
        "\n",
        "\n",
        "\n",
        "\n",
        "\n",
        "\n",
        "\n",
        "\n",
        "\n",
        "\n",
        "\n"
      ],
      "metadata": {
        "id": "s_5mCNHLXDLE"
      }
    },
    {
      "cell_type": "markdown",
      "source": [
        "### Question 5\n",
        "What are the six comparison operators?"
      ],
      "metadata": {
        "id": "IOyNf80npHsh"
      }
    },
    {
      "cell_type": "markdown",
      "source": [
        "### Answer"
      ],
      "metadata": {
        "id": "NSsmZOueXDUM"
      }
    },
    {
      "cell_type": "markdown",
      "source": [
        "### Question 6\n",
        "How do you tell the difference between the equal to and assignment operators?Describe a condition and when you would use one."
      ],
      "metadata": {
        "id": "TwHXR5CxXDcE"
      }
    },
    {
      "cell_type": "markdown",
      "source": [
        "### Answer"
      ],
      "metadata": {
        "id": "0SQ_v8A5XDiP"
      }
    },
    {
      "cell_type": "markdown",
      "source": [
        "### Question 7\n",
        "Identify the three blocks in this code:\n",
        "spam = 0\n",
        "if spam == 10:\n",
        "print('eggs')\n",
        "if spam > 5:\n",
        "print('bacon')\n",
        "else:\n",
        "print('ham')\n",
        "print('spam')\n",
        "print('spam')\n"
      ],
      "metadata": {
        "id": "BPPJSg5cpdiW"
      }
    },
    {
      "cell_type": "markdown",
      "source": [
        ""
      ],
      "metadata": {
        "id": "-Pgyb_CwphUE"
      }
    },
    {
      "cell_type": "markdown",
      "source": [
        "### Question 8\n",
        "Write code that prints Hello if 1 is stored in spam, prints Howdy if 2 is stored in spam, and prints Greetings! if anything else is stored in spam."
      ],
      "metadata": {
        "id": "hgmh9MCXphdo"
      }
    },
    {
      "cell_type": "markdown",
      "source": [
        ""
      ],
      "metadata": {
        "id": "86pesqUDpjRR"
      }
    },
    {
      "cell_type": "markdown",
      "source": [
        "### Question 9\n",
        "If your programme is stuck in an endless loop, what keys you’ll press?"
      ],
      "metadata": {
        "id": "GJ77vlChpjcQ"
      }
    },
    {
      "cell_type": "markdown",
      "source": [
        ""
      ],
      "metadata": {
        "id": "K6a2Q4G6plcH"
      }
    },
    {
      "cell_type": "markdown",
      "source": [
        "### Question 10\n",
        "How can you tell the difference between break and continue?"
      ],
      "metadata": {
        "id": "k-ZWL1DjpliH"
      }
    },
    {
      "cell_type": "markdown",
      "source": [
        ""
      ],
      "metadata": {
        "id": "oyGxksZopote"
      }
    },
    {
      "cell_type": "markdown",
      "source": [
        "### Question 11\n",
        "In a for loop, what is the difference between range(10), range(0, 10), and range(0, 10, 1)?"
      ],
      "metadata": {
        "id": "KQ772xpEpo0i"
      }
    },
    {
      "cell_type": "markdown",
      "source": [
        ""
      ],
      "metadata": {
        "id": "tAxmS41-pqb-"
      }
    },
    {
      "cell_type": "markdown",
      "source": [
        "### Question 12\n",
        "Write a short program that prints the numbers 1 to 10 using a for loop. Then write an equivalent program that prints the numbers 1 to 10 using a while loop."
      ],
      "metadata": {
        "id": "KoUVHl8Zpqlm"
      }
    },
    {
      "cell_type": "markdown",
      "source": [
        ""
      ],
      "metadata": {
        "id": "ChbttFuepsrw"
      }
    },
    {
      "cell_type": "markdown",
      "source": [
        "### Question 13\n",
        "If you had a function named bacon() inside a module named spam, how would you call it after importing spam?"
      ],
      "metadata": {
        "id": "TqW6POQspsv-"
      }
    }
  ]
}