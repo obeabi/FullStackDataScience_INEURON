{
  "nbformat": 4,
  "nbformat_minor": 0,
  "metadata": {
    "colab": {
      "name": "Python_Basic_Assignment_2.ipynb",
      "provenance": [],
      "authorship_tag": "ABX9TyN0PUxJRGsIG88E2ZX4DvhG",
      "include_colab_link": true
    },
    "kernelspec": {
      "name": "python3",
      "display_name": "Python 3"
    },
    "language_info": {
      "name": "python"
    }
  },
  "cells": [
    {
      "cell_type": "markdown",
      "metadata": {
        "id": "view-in-github",
        "colab_type": "text"
      },
      "source": [
        "<a href=\"https://colab.research.google.com/github/obeabi/FullStackDataScience_INEURON/blob/main/Python_Basic_Assignment_2.ipynb\" target=\"_parent\"><img src=\"https://colab.research.google.com/assets/colab-badge.svg\" alt=\"Open In Colab\"/></a>"
      ]
    },
    {
      "cell_type": "markdown",
      "source": [
        "# Python Basic  Assignment 2:\n",
        "\n",
        "## Written by: Abiola Obembe\n",
        "# Date : 2022-08-08"
      ],
      "metadata": {
        "id": "0tFypjqzWWDW"
      }
    },
    {
      "cell_type": "markdown",
      "source": [
        "### Question 1\n",
        "What are the two values of the Boolean data type? How do you write them?"
      ],
      "metadata": {
        "id": "QjzqajCrWaCl"
      }
    },
    {
      "cell_type": "markdown",
      "source": [
        "### Answer\n",
        "\n",
        "The two values of the Boolean data type are:\n",
        "\n",
        "\n",
        "*   True\n",
        "*   False\n",
        "\n"
      ],
      "metadata": {
        "id": "pXQD5BYFWiJV"
      }
    },
    {
      "cell_type": "markdown",
      "source": [
        "### Question 2\n",
        "What are the three different types of Boolean operators?"
      ],
      "metadata": {
        "id": "qW3rn02JWn-s"
      }
    },
    {
      "cell_type": "markdown",
      "source": [
        "### Answer\n",
        "They include \n",
        "\n",
        "\n",
        "*   Not opeartor \n",
        "*   And operator\n",
        "*   Or opeartor \n",
        "\n",
        "\n",
        "\n"
      ],
      "metadata": {
        "id": "Ri0s-M93WrvK"
      }
    },
    {
      "cell_type": "markdown",
      "source": [
        "### Question 3\n",
        "Make a list of each Boolean operator's truth tables (i.e. every possible combination of Boolean values for the operator and what it evaluate )."
      ],
      "metadata": {
        "id": "QNIqCRfgWt80"
      }
    },
    {
      "cell_type": "markdown",
      "source": [
        "### Answer\n",
        "\n",
        "\n",
        "Not Operator\n",
        "\n",
        "*   Not True = False\n",
        "*   Not False  = True\n",
        "\n",
        "Or Opertaor\n",
        "*   True or True = True\n",
        "*   True or False = True\n",
        "*   Fasle or True = True\n",
        "*   False or False = False\n",
        "\n",
        "And Operator\n",
        "\n",
        "*   True and True = True\n",
        "*   True and False = False\n",
        "*   False and True = False\n",
        "*   False and False = False\n",
        "\n",
        "\n",
        "\n",
        "\n",
        "\n",
        "\n"
      ],
      "metadata": {
        "id": "NXXOP-_lW_w9"
      }
    },
    {
      "cell_type": "markdown",
      "source": [
        "### Question 4\n",
        "\n",
        "What are the values of the following expressions?"
      ],
      "metadata": {
        "id": "nFHcJdmNXCr8"
      }
    },
    {
      "cell_type": "markdown",
      "source": [
        "\n",
        "\n",
        "\n",
        "\n",
        "\n",
        "\n",
        "*   (5 > 4) and (3 == 5) = False\n",
        "*   not (5 > 4) = False\n",
        "*   (5 > 4) or (3 == 5) = True\n",
        "*   not ((5 > 4) or (3 == 5)) = False\n",
        "*   (True and True) and (True == False) = False\n",
        "*   (not False) or (not True) = True\n",
        "\n",
        "\n",
        "\n",
        "\n",
        "\n",
        "\n",
        "\n",
        "\n",
        "\n",
        "\n",
        "\n",
        "\n",
        "\n",
        "\n",
        "\n"
      ],
      "metadata": {
        "id": "s_5mCNHLXDLE"
      }
    },
    {
      "cell_type": "markdown",
      "source": [
        "### Question 5\n",
        "What are the six comparison operators?"
      ],
      "metadata": {
        "id": "IOyNf80npHsh"
      }
    },
    {
      "cell_type": "markdown",
      "source": [
        "### Answer\n",
        "*   Less than opeartor : <\n",
        "*   Greater than operator: >\n",
        "*   Comparison opeartor : ==\n",
        "*   Not equal opearator : !=\n",
        "*   Less than opeartor : <\n",
        "*   Greater than operator: >\n",
        "*   Comparison opeartor : ==\n",
        "*   Not equal opearator : !="
      ],
      "metadata": {
        "id": "NSsmZOueXDUM"
      }
    },
    {
      "cell_type": "markdown",
      "source": [
        "### Question 6\n",
        "How do you tell the difference between the equal to and assignment operators?Describe a condition and when you would use one."
      ],
      "metadata": {
        "id": "TwHXR5CxXDcE"
      }
    },
    {
      "cell_type": "markdown",
      "source": [
        "### Answer\n",
        "\n",
        "The  equal operator is = and is used to assign a value to a varaible; however, the assignment operator is == and is used to ask a question or test an expression. The assignment operator is used to get a True or False answer while the equal opeartor is used to store a value in a variable."
      ],
      "metadata": {
        "id": "0SQ_v8A5XDiP"
      }
    },
    {
      "cell_type": "markdown",
      "source": [
        "### Question 7\n",
        "Identify the three blocks in this code:\n",
        "spam = 0\n",
        "if spam == 10:\n",
        "print('eggs')\n",
        "if spam > 5:\n",
        "print('bacon')\n",
        "else:\n",
        "print('ham')\n",
        "print('spam')\n",
        "print('spam')\n"
      ],
      "metadata": {
        "id": "BPPJSg5cpdiW"
      }
    },
    {
      "cell_type": "code",
      "source": [
        "spam = 0\n",
        "#Block 1\n",
        "if spam == 10:\n",
        "  print('eggs')\n",
        "#Block 2\n",
        "if spam > 5:\n",
        "  print('bacon')\n",
        "# Block 3\n",
        "else:\n",
        "  print('ham')\n",
        "  print('spam')\n",
        "  print('spam')"
      ],
      "metadata": {
        "colab": {
          "base_uri": "https://localhost:8080/"
        },
        "id": "PCtQSVLUAee7",
        "outputId": "6bcb016f-5054-4f53-a357-8057a79f1d91"
      },
      "execution_count": 8,
      "outputs": [
        {
          "output_type": "stream",
          "name": "stdout",
          "text": [
            "ham\n",
            "spam\n",
            "spam\n"
          ]
        }
      ]
    },
    {
      "cell_type": "markdown",
      "source": [
        "### Question 8\n",
        "Write code that prints Hello if 1 is stored in spam, prints Howdy if 2 is stored in spam, and prints Greetings! if anything else is stored in spam."
      ],
      "metadata": {
        "id": "hgmh9MCXphdo"
      }
    },
    {
      "cell_type": "code",
      "source": [
        "spam =int(input(\"Value for spam here :\"))\n",
        "\n",
        "if spam == 1:\n",
        "  print(\"Hello\")\n",
        "elif spam ==2 :\n",
        "  print(\"Howdy\")\n",
        "else:\n",
        "  print('Greetings')"
      ],
      "metadata": {
        "colab": {
          "base_uri": "https://localhost:8080/"
        },
        "id": "FPMm7JmXA4AA",
        "outputId": "f5005050-83b3-46e9-cd8f-99870cfe21f3"
      },
      "execution_count": 9,
      "outputs": [
        {
          "output_type": "stream",
          "name": "stdout",
          "text": [
            "Value for spam here :2\n",
            "Howdy\n"
          ]
        }
      ]
    },
    {
      "cell_type": "markdown",
      "source": [
        "### Question 9\n",
        "If your programme is stuck in an endless loop, what keys you’ll press?"
      ],
      "metadata": {
        "id": "GJ77vlChpjcQ"
      }
    },
    {
      "cell_type": "markdown",
      "source": [
        "### Answer\n",
        "Control + C"
      ],
      "metadata": {
        "id": "K6a2Q4G6plcH"
      }
    },
    {
      "cell_type": "markdown",
      "source": [
        "### Question 10\n",
        "How can you tell the difference between break and continue?"
      ],
      "metadata": {
        "id": "k-ZWL1DjpliH"
      }
    },
    {
      "cell_type": "markdown",
      "source": [
        "### Answer\n",
        "Break command is used to exit from a loop; however, continue command sends the cursor back to the loop and skips all other commands below the continue command."
      ],
      "metadata": {
        "id": "oyGxksZopote"
      }
    },
    {
      "cell_type": "markdown",
      "source": [
        "### Question 11\n",
        "In a for loop, what is the difference between range(10), range(0, 10), and range(0, 10, 1)?"
      ],
      "metadata": {
        "id": "KQ772xpEpo0i"
      }
    },
    {
      "cell_type": "markdown",
      "source": [
        "### Answer\n",
        "\n",
        "\n",
        "*   range(10) : generates sorted values from 0 to 9 with as skip size of 1 i.e. 0,1,2,3,4,5,6,7,8,9\n",
        "*   range(0,10): generates sorted values from 0 to 9 with as skip size of 1 i.e. 0,1,2,3,4,5,6,7,8,9\n",
        "*   range(0,10,1): generates sorted values from 0 to 9 with as skip size of 1 i.e. 0,1,2,3,4,5,6,7,8,9\n",
        "\n",
        "The only difference is that the third range function contains the three arguments for the range function.\n",
        "\n",
        "\n"
      ],
      "metadata": {
        "id": "tAxmS41-pqb-"
      }
    },
    {
      "cell_type": "markdown",
      "source": [
        "### Question 12\n",
        "Write a short program that prints the numbers 1 to 10 using a for loop. Then write an equivalent program that prints the numbers 1 to 10 using a while loop."
      ],
      "metadata": {
        "id": "KoUVHl8Zpqlm"
      }
    },
    {
      "cell_type": "code",
      "source": [
        "# For loop\n",
        "for i in range(1,11):\n",
        "   print(i)\n",
        "\n",
        "\n"
      ],
      "metadata": {
        "colab": {
          "base_uri": "https://localhost:8080/"
        },
        "id": "7lq2tO39Ga6K",
        "outputId": "a8e40e14-51f2-4398-b6f3-8939079a36cc"
      },
      "execution_count": 10,
      "outputs": [
        {
          "output_type": "stream",
          "name": "stdout",
          "text": [
            "1\n",
            "2\n",
            "3\n",
            "4\n",
            "5\n",
            "6\n",
            "7\n",
            "8\n",
            "9\n",
            "10\n"
          ]
        }
      ]
    },
    {
      "cell_type": "code",
      "source": [
        "# While loop\n",
        "i = 1\n",
        "while i <= 10:\n",
        "  print(i)\n",
        "  i += 1"
      ],
      "metadata": {
        "colab": {
          "base_uri": "https://localhost:8080/"
        },
        "id": "g_DT9_IjG5d0",
        "outputId": "d69e132e-db2f-48ed-9284-be395b640b29"
      },
      "execution_count": 11,
      "outputs": [
        {
          "output_type": "stream",
          "name": "stdout",
          "text": [
            "1\n",
            "2\n",
            "3\n",
            "4\n",
            "5\n",
            "6\n",
            "7\n",
            "8\n",
            "9\n",
            "10\n"
          ]
        }
      ]
    },
    {
      "cell_type": "markdown",
      "source": [
        "### Question 13\n",
        "If you had a function named bacon() inside a module named spam, how would you call it after importing spam?"
      ],
      "metadata": {
        "id": "TqW6POQspsv-"
      }
    },
    {
      "cell_type": "markdown",
      "source": [
        "### Answer\n",
        "\n",
        "import spam\n",
        "\n",
        "spam.bacon(args)"
      ],
      "metadata": {
        "id": "XFz6y_qxHsgS"
      }
    }
  ]
}