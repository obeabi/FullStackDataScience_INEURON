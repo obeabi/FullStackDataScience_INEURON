{
  "nbformat": 4,
  "nbformat_minor": 0,
  "metadata": {
    "colab": {
      "provenance": [],
      "authorship_tag": "ABX9TyM40rkxnOYxbLxUNFdinbEj",
      "include_colab_link": true
    },
    "kernelspec": {
      "name": "python3",
      "display_name": "Python 3"
    },
    "language_info": {
      "name": "python"
    }
  },
  "cells": [
    {
      "cell_type": "markdown",
      "metadata": {
        "id": "view-in-github",
        "colab_type": "text"
      },
      "source": [
        "<a href=\"https://colab.research.google.com/github/obeabi/FullStackDataScience_INEURON/blob/main/The_Caesar_Cipher_decrypting_a_message.ipynb\" target=\"_parent\"><img src=\"https://colab.research.google.com/assets/colab-badge.svg\" alt=\"Open In Colab\"/></a>"
      ]
    },
    {
      "cell_type": "code",
      "execution_count": 2,
      "metadata": {
        "colab": {
          "base_uri": "https://localhost:8080/"
        },
        "id": "Xjn_XzRZfE6R",
        "outputId": "4027e000-6184-4654-fda3-5e794f57a6a4"
      },
      "outputs": [
        {
          "output_type": "stream",
          "name": "stdout",
          "text": [
            "Input your text here :BWFDBFTBS\n",
            "AVECAESAR\n"
          ]
        }
      ],
      "source": [
        "my_text = input(\"Input your text here :\")\n",
        "decipher = ''\n",
        "\n",
        "for text in my_text:\n",
        "  if not text.isalpha():\n",
        "    continue\n",
        "  code = ord(text.upper()) - 1\n",
        "  if code < ord('A'):\n",
        "    code = ord('A')\n",
        "  decipher += chr(code)\n",
        "\n",
        "print(decipher)\n",
        "    "
      ]
    }
  ]
}