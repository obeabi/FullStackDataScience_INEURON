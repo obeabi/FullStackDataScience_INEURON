{
  "nbformat": 4,
  "nbformat_minor": 0,
  "metadata": {
    "colab": {
      "provenance": [],
      "authorship_tag": "ABX9TyNFzdvtFkw01T5+pctkXA/H",
      "include_colab_link": true
    },
    "kernelspec": {
      "name": "python3",
      "display_name": "Python 3"
    },
    "language_info": {
      "name": "python"
    }
  },
  "cells": [
    {
      "cell_type": "markdown",
      "metadata": {
        "id": "view-in-github",
        "colab_type": "text"
      },
      "source": [
        "<a href=\"https://colab.research.google.com/github/obeabi/FullStackDataScience_INEURON/blob/main/Counting_Stack.ipynb\" target=\"_parent\"><img src=\"https://colab.research.google.com/assets/colab-badge.svg\" alt=\"Open In Colab\"/></a>"
      ]
    },
    {
      "cell_type": "markdown",
      "source": [
        "# Objectives\n",
        "\n",
        "1. improve the student's skills in defining classes;\n",
        "2. using existing classes to create new classes equipped with new functionalities.\n",
        "\n",
        "\n",
        "## Scenario\n",
        "We've showed you recently how to extend Stack possibilities by defining a new class (i.e., a subclass) which retains all inherited traits and adds some new ones.\n",
        "\n",
        "Your task is to extend the Stack class behavior in such a way so that the class is able to count all the elements that are pushed and popped (we assume that counting pops is enough). Use the Stack class we've provided in the editor.\n",
        "\n",
        "Follow the hints:\n",
        "\n",
        ". introduce a property designed to count pop operations and name it in a way which guarantees hiding it;\n",
        "\n",
        ". initialize it to zero inside the constructor;\n",
        "\n",
        ". provide a method which returns the value currently assigned to the counter (name it get_counter()).\n",
        "\n",
        "\n",
        "__Complete the code in the editor. Run it to check whether your code outputs 100__.\n",
        "\n"
      ],
      "metadata": {
        "id": "Mg-nQj5Irc6k"
      }
    },
    {
      "cell_type": "markdown",
      "source": [
        "## Parent Class  i.e. superclass"
      ],
      "metadata": {
        "id": "V7_Mx7o0r9eH"
      }
    },
    {
      "cell_type": "code",
      "source": [
        "class Stack:\n",
        "    def __init__(self):\n",
        "        self.__stk = []\n",
        "\n",
        "    def push(self, val):\n",
        "        self.__stk.append(val)\n",
        "\n",
        "    def pop(self):\n",
        "        val = self.__stk[-1]\n",
        "        del self.__stk[-1]\n",
        "        return val"
      ],
      "metadata": {
        "id": "rcVU0FS_r7dW"
      },
      "execution_count": 1,
      "outputs": []
    },
    {
      "cell_type": "markdown",
      "source": [
        "## Subclass or child class"
      ],
      "metadata": {
        "id": "Ud9b4M9XsfUi"
      }
    },
    {
      "cell_type": "code",
      "source": [
        "class CountingStack(Stack):\n",
        "    def __init__(self):\n",
        "    #\n",
        "    # Fill the constructor with appropriate actions.\n",
        "      #super().__init__()\n",
        "      #Stack.__init__(self)\n",
        "      super(CountingStack, self).__init__()\n",
        "      self.__count_pop = 0\n",
        "\n",
        "    def get_counter(self):\n",
        "    #\n",
        "    # Present the counter's current value to the world.\n",
        "      return self.__count_pop\n",
        "\n",
        "    def pop(self):\n",
        "    #\n",
        "    # Do pop and update the counter.\n",
        "      val = Stack.pop(self)\n",
        "      self.__count_pop += 1\n",
        "\n",
        "      return val"
      ],
      "metadata": {
        "id": "dqW2DNHusenZ"
      },
      "execution_count": 10,
      "outputs": []
    },
    {
      "cell_type": "code",
      "source": [
        "def test_code():\n",
        "    stk = CountingStack()\n",
        "    for i in range(100):\n",
        "      stk.push(i)\n",
        "      stk.pop()\n",
        "    print(stk.get_counter())\n",
        "\n",
        "if __name__ == \"__main__\":\n",
        "  test_code()"
      ],
      "metadata": {
        "colab": {
          "base_uri": "https://localhost:8080/"
        },
        "id": "mAYihc_fskyP",
        "outputId": "30206227-7745-4e7f-9c06-0bbae2a34d69"
      },
      "execution_count": 11,
      "outputs": [
        {
          "output_type": "stream",
          "name": "stdout",
          "text": [
            "100\n"
          ]
        }
      ]
    }
  ]
}